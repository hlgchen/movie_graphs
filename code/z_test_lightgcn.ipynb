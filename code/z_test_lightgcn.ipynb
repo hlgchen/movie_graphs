{
 "cells": [
  {
   "cell_type": "code",
   "execution_count": null,
   "id": "fcd0d9b4-7a85-4336-b33e-5a43d9e47cc1",
   "metadata": {},
   "outputs": [],
   "source": [
    "import torch \n",
    "import numpy as np \n",
    "\n",
    "from utils import *\n",
    "from model import * "
   ]
  },
  {
   "cell_type": "markdown",
   "id": "613b3f5b-cfdd-4e6d-8522-6b5c4aae5c08",
   "metadata": {},
   "source": [
    "### test light GCN"
   ]
  },
  {
   "cell_type": "code",
   "execution_count": null,
   "id": "00cbdf8f-27ba-43f0-b2d5-2913ffd9c1d0",
   "metadata": {},
   "outputs": [],
   "source": [
    "A = np.array([[0, 1, 1, 0], [1, 0, 1, 1], [1, 1, 0, 0], [0, 1, 0, 1]])\n",
    "\n",
    "degree = A.sum(axis=0)\n",
    "deg_mat = np.diag(degree ** -0.5)\n",
    "\n",
    "A_tilde = deg_mat @ A @ deg_mat\n",
    "\n",
    "\n",
    "def iterate_lgcn(x, n):\n",
    "    ls = []\n",
    "    for _ in range(n):\n",
    "        ls.append(x)\n",
    "        x = A_tilde @ x\n",
    "    return np.array(ls).mean(axis=0)"
   ]
  },
  {
   "cell_type": "code",
   "execution_count": null,
   "id": "622cd2a3-3c52-457c-8b0b-06dfc9113128",
   "metadata": {},
   "outputs": [],
   "source": [
    "def get_edge_list(A):\n",
    "    ls = []\n",
    "    for i in range(A.shape[0]):\n",
    "        for j in range(A.shape[1]):\n",
    "            if A[i, j] == 1:\n",
    "                ls.append((i, j))\n",
    "    return ls\n",
    "\n",
    "\n",
    "el = get_edge_list(A)\n",
    "el = edge_list_to_tensor(el)"
   ]
  },
  {
   "cell_type": "code",
   "execution_count": null,
   "id": "156c27a1-2466-4afb-8706-339b3b1db3f9",
   "metadata": {},
   "outputs": [],
   "source": [
    "lgcn = LightGCN(3)"
   ]
  },
  {
   "cell_type": "code",
   "execution_count": null,
   "id": "62909d9d-5adf-4c01-b35c-dd240908fd1a",
   "metadata": {},
   "outputs": [],
   "source": [
    "emb_test = np.array([[0], [1], [2], [3]])"
   ]
  },
  {
   "cell_type": "code",
   "execution_count": null,
   "id": "ac65b1a3-a1a0-4f28-a8e6-a5d56efea627",
   "metadata": {},
   "outputs": [],
   "source": [
    "iterate_lgcn(emb_test, 3)"
   ]
  },
  {
   "cell_type": "code",
   "execution_count": null,
   "id": "efaf89f3-74db-4938-ade2-b601c966e1bc",
   "metadata": {},
   "outputs": [],
   "source": [
    "lgcn.forward(torch.tensor(emb_test), el)"
   ]
  },
  {
   "cell_type": "code",
   "execution_count": null,
   "id": "f070db79-419d-4c88-b788-6cde0a5c0a3d",
   "metadata": {},
   "outputs": [],
   "source": []
  }
 ],
 "metadata": {
  "kernelspec": {
   "display_name": "Python 3 (ipykernel)",
   "language": "python",
   "name": "python3"
  },
  "language_info": {
   "codemirror_mode": {
    "name": "ipython",
    "version": 3
   },
   "file_extension": ".py",
   "mimetype": "text/x-python",
   "name": "python",
   "nbconvert_exporter": "python",
   "pygments_lexer": "ipython3",
   "version": "3.9.7"
  }
 },
 "nbformat": 4,
 "nbformat_minor": 5
}
