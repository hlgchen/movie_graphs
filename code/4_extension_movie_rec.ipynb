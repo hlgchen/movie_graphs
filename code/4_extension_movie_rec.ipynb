{
 "cells": [
  {
   "cell_type": "code",
   "execution_count": null,
   "id": "adc97baf-39fe-450e-add4-40f8c5a59089",
   "metadata": {},
   "outputs": [],
   "source": [
    "%load_ext lab_black\n",
    "%load_ext autoreload\n",
    "%autoreload 2"
   ]
  },
  {
   "cell_type": "code",
   "execution_count": null,
   "id": "57a4142c-593f-4d9f-ac72-57bbd91fd7a7",
   "metadata": {},
   "outputs": [],
   "source": [
    "import pandas as pd\n",
    "import numpy as np\n",
    "import dask.dataframe as dd\n",
    "import ast\n",
    "\n",
    "import networkx as nx\n",
    "import torch\n",
    "from torch import nn\n",
    "\n",
    "from model import SimpleEmbedding\n",
    "from utils import *\n",
    "import evaluation"
   ]
  },
  {
   "cell_type": "markdown",
   "id": "7e38ebe8-cb81-46ae-b1ab-d00508e00b6e",
   "metadata": {},
   "source": [
    "### load data"
   ]
  },
  {
   "cell_type": "code",
   "execution_count": null,
   "id": "aadd016d-07fc-45b0-920f-fa5076555eb1",
   "metadata": {},
   "outputs": [],
   "source": [
    "ratings = pd.read_csv(\"../data/ratings.csv\")\n",
    "links = pd.read_csv(\"../data/links.csv\", dtype=str)\n",
    "credits = pd.read_csv(\"../data/credits.csv\")\n",
    "\n",
    "ratings.columns = ratings.columns.str.lower()\n",
    "links.columns = links.columns.str.lower()\n",
    "credits.columns = credits.columns.str.lower()\n",
    "\n",
    "credits = credits.rename(columns={\"id\": \"tmdbid\"})\n",
    "\n",
    "links.tmdbid = links.tmdbid.dropna().astype(int)\n",
    "links.movieid = links.movieid.dropna().astype(int)"
   ]
  },
  {
   "cell_type": "code",
   "execution_count": null,
   "id": "424507fe-5acb-4c9c-b55e-4cbd711fabaa",
   "metadata": {},
   "outputs": [],
   "source": [
    "ratings = ratings.loc[ratings.userid < 1500].copy()"
   ]
  },
  {
   "cell_type": "markdown",
   "id": "729fec37-0d15-45af-a6f1-9cc2df160aff",
   "metadata": {},
   "source": [
    "## 1. proximity of movies based on actors"
   ]
  },
  {
   "cell_type": "markdown",
   "id": "946119b0-3a02-4664-99e2-4a198adb0f9a",
   "metadata": {},
   "source": [
    "#### process credits"
   ]
  },
  {
   "cell_type": "code",
   "execution_count": null,
   "id": "b304e5bb-94ed-4d34-a32f-dad5793863bb",
   "metadata": {},
   "outputs": [],
   "source": [
    "# covert strings to list of dictionary\n",
    "credits.cast = credits.cast.apply(ast.literal_eval)\n",
    "credits.crew = credits.crew.apply(ast.literal_eval)"
   ]
  },
  {
   "cell_type": "code",
   "execution_count": null,
   "id": "8dc21b2b-28dc-4eb0-81c7-509928764c3a",
   "metadata": {},
   "outputs": [],
   "source": [
    "cdf = credits[[\"tmdbid\"]].copy()\n",
    "\n",
    "# cdf (cast and crw df) contains list of people who worked on a certain movie\n",
    "# extract information from dictionaries\n",
    "cdf[\"cast_list\"] = credits.cast.apply(lambda x: [y[\"name\"] for y in x])\n",
    "cdf[\"crew_list\"] = credits.crew.apply(lambda x: [y[\"name\"] for y in x])\n",
    "cdf[\"people\"] = cdf.apply(lambda x: x.cast_list + x.crew_list, axis=1)"
   ]
  },
  {
   "cell_type": "code",
   "execution_count": null,
   "id": "2b6f2dad-4f0f-479a-b65c-cfd007027c6f",
   "metadata": {},
   "outputs": [],
   "source": [
    "relevant_links = links.merge(ratings[[\"movieid\"]].drop_duplicates())\n",
    "cdf_relevant = cdf.merge(relevant_links[[\"tmdbid\", \"movieid\"]])"
   ]
  },
  {
   "cell_type": "code",
   "execution_count": null,
   "id": "47c2bfba-89b1-40fa-96d8-5a85690e85fe",
   "metadata": {},
   "outputs": [],
   "source": [
    "cdf_edges = (\n",
    "    cdf_relevant[[\"cast_list\", \"movieid\"]]\n",
    "    .explode(column=\"cast_list\")\n",
    "    .drop_duplicates()\n",
    "    .reset_index(drop=True)\n",
    ")"
   ]
  },
  {
   "cell_type": "markdown",
   "id": "0ae3ee88-2e58-4eb1-92dd-6191126b252f",
   "metadata": {},
   "source": [
    "## Map to node ids"
   ]
  },
  {
   "cell_type": "code",
   "execution_count": null,
   "id": "a26c7f78-33db-49ff-afca-2589206baed8",
   "metadata": {},
   "outputs": [],
   "source": [
    "nodeid_people, nodeid_movieid2, people_nodeid, movieid_nodeid2 = get_mapping(cdf_edges)"
   ]
  },
  {
   "cell_type": "markdown",
   "id": "95770748-39ba-49d0-955e-bd34d0d4bef6",
   "metadata": {},
   "source": [
    "#### map userid and movie_id to index"
   ]
  },
  {
   "cell_type": "code",
   "execution_count": null,
   "id": "437ddef7-2c7c-4e09-bb0a-b24a767c848a",
   "metadata": {},
   "outputs": [],
   "source": [
    "nodeid_userid, nodeid_movieid, userid_nodeid, movieid_nodeid = get_mapping(ratings)"
   ]
  },
  {
   "cell_type": "markdown",
   "id": "6758b611-eb6a-450e-acca-1bcc2fadcf51",
   "metadata": {},
   "source": [
    "### create graph"
   ]
  },
  {
   "cell_type": "code",
   "execution_count": null,
   "id": "f16649ab-5d09-4a5f-90c3-4f16470cd934",
   "metadata": {},
   "outputs": [],
   "source": [
    "%%time\n",
    "def create_edge_credits_movie(x): \n",
    "    return (people_nodeid[x.cast_list], movieid_nodeid2[x.movieid])\n",
    "\n",
    "raw_edges = cdf_edges.apply(lambda x: create_edge_credits_movie(x), axis=1).tolist()"
   ]
  },
  {
   "cell_type": "code",
   "execution_count": null,
   "id": "5ae99690-76f2-4b32-ab76-582dec2f00d9",
   "metadata": {},
   "outputs": [],
   "source": [
    "%%time\n",
    "H = nx.Graph(directed=False)\n",
    "H.add_edges_from(raw_edges)"
   ]
  },
  {
   "cell_type": "code",
   "execution_count": null,
   "id": "03df653b-b242-4613-94c4-126dd7f26e3e",
   "metadata": {},
   "outputs": [],
   "source": [
    "print(\"number of nodes:\", H.number_of_nodes())\n",
    "print(\"number of edges:\", H.number_of_edges())\n",
    "cc = 2 * H.number_of_edges() / H.number_of_nodes()\n",
    "print(\"average node degree:\", cc)\n",
    "print(\"density of network:\", nx.density(H))"
   ]
  },
  {
   "cell_type": "markdown",
   "id": "cdea8967-d854-477e-ac03-e26f3f751839",
   "metadata": {},
   "source": [
    "### get edge list"
   ]
  },
  {
   "cell_type": "code",
   "execution_count": null,
   "id": "c0e3b296-efa4-4af8-8fb9-472cdb0cfb24",
   "metadata": {},
   "outputs": [],
   "source": [
    "pos_edge_list = graph_to_edge_list(H)\n",
    "\n",
    "# split edges\n",
    "split_dict = {\"train\": 0.75, \"test\": 0.25}\n",
    "edges = transductive_edge_split(pos_edge_list, split_dict, seed=825)"
   ]
  },
  {
   "cell_type": "markdown",
   "id": "6547de81-fa40-4075-bf44-7a7c85d14aca",
   "metadata": {},
   "source": [
    "#### create negative samples and labels"
   ]
  },
  {
   "cell_type": "code",
   "execution_count": null,
   "id": "0e253b10-7c95-4f00-8134-a63c4269ac79",
   "metadata": {},
   "outputs": [],
   "source": [
    "%%time\n",
    "pos_edge_index = dict()\n",
    "neg_edge_index = dict()\n",
    "pos_label = dict()\n",
    "neg_label = dict()\n",
    "\n",
    "for key, ls in edges.items():\n",
    "    pos_edge_index[key] = edge_list_to_tensor(ls)\n",
    "\n",
    "    neg_edge_list = sample_negative_edges(H, len(ls))\n",
    "    neg_edge_index[key] = edge_list_to_tensor(neg_edge_list)\n",
    "\n",
    "    pos_label[key] = torch.ones(pos_edge_index[key].shape[1])\n",
    "    neg_label[key] = torch.zeros(neg_edge_index[key].shape[1])"
   ]
  },
  {
   "cell_type": "code",
   "execution_count": null,
   "id": "0d6e1196-d4a2-4df7-b837-ff59f0457844",
   "metadata": {},
   "outputs": [],
   "source": [
    "pos_edge_index = dict()\n",
    "for key, ls in edges.items():\n",
    "    pos_edge_index[key] = edge_list_to_tensor(ls)"
   ]
  },
  {
   "cell_type": "markdown",
   "id": "244b8d1d-d6e9-454d-9f56-58795eba6eef",
   "metadata": {},
   "source": [
    "### create embeddings"
   ]
  },
  {
   "cell_type": "code",
   "execution_count": null,
   "id": "e61b7e1a-96e6-4d4d-9401-27047e01caea",
   "metadata": {},
   "outputs": [],
   "source": [
    "torch.manual_seed(1)\n",
    "emb = create_node_emb(num_node=H.number_of_nodes())"
   ]
  },
  {
   "cell_type": "markdown",
   "id": "4bbf9fdd-beaa-49c5-bda8-8187a1840586",
   "metadata": {},
   "source": [
    "### train embeddings"
   ]
  },
  {
   "cell_type": "code",
   "execution_count": null,
   "id": "1cc80b0f-b354-45c2-82c4-055ae1a76aca",
   "metadata": {},
   "outputs": [],
   "source": [
    "from torch.optim import Adam\n",
    "\n",
    "\n",
    "def train(model, train_label, train_edge, epochs=1000):\n",
    "\n",
    "    learning_rate = 0.001\n",
    "\n",
    "    optimizer = Adam(emb.parameters(), lr=learning_rate)\n",
    "\n",
    "    for i in range(epochs):\n",
    "        optimizer.zero_grad()\n",
    "\n",
    "        pred = model.forward(train_edge)\n",
    "        loss = model.loss_fn(pred, train_label)\n",
    "\n",
    "        loss.backward()\n",
    "        optimizer.step()\n",
    "\n",
    "        if i % 500 == 0:\n",
    "            print(\n",
    "                f\"epoch {i}: loss is: {loss}, accuracy is {accuracy(pred, train_label)}\"\n",
    "            )\n",
    "\n",
    "\n",
    "train_label = torch.cat([pos_label[\"train\"], neg_label[\"train\"]], dim=0)\n",
    "train_edge = torch.cat([pos_edge_index[\"train\"], neg_edge_index[\"train\"]], dim=1)\n",
    "\n",
    "model = SimpleEmbedding(emb)\n",
    "\n",
    "train(model, train_label, train_edge)"
   ]
  },
  {
   "cell_type": "markdown",
   "id": "f89540d4-12f1-492e-8b76-f5ffad245885",
   "metadata": {},
   "source": [
    "### rate movie proximity"
   ]
  },
  {
   "cell_type": "code",
   "execution_count": null,
   "id": "86fb027a-111b-4329-842e-e39456a1d302",
   "metadata": {},
   "outputs": [],
   "source": [
    "from itertools import combinations\n",
    "import seaborn as sns"
   ]
  },
  {
   "cell_type": "code",
   "execution_count": null,
   "id": "444b31a1-ebba-49ad-954b-b7d94f2e0d0e",
   "metadata": {},
   "outputs": [],
   "source": [
    "%%time\n",
    "comb = list(combinations(list(nodeid_movieid2.keys()), 2))\n",
    "movie_comb = torch.tensor(comb).transpose(0, 1)"
   ]
  },
  {
   "cell_type": "code",
   "execution_count": null,
   "id": "83c3cbb1-7313-42fe-bafb-040c4f832041",
   "metadata": {},
   "outputs": [],
   "source": [
    "movie_proximity_weight = model.forward(movie_comb).detach()\n",
    "movie_proximity_weight = torch.pow(movie_proximity_weight, 100)"
   ]
  },
  {
   "cell_type": "code",
   "execution_count": null,
   "id": "2f60063a-bf9e-474b-994f-1cf02f966359",
   "metadata": {},
   "outputs": [],
   "source": [
    "sns.distplot(movie_proximity_weight)"
   ]
  },
  {
   "cell_type": "code",
   "execution_count": null,
   "id": "2a315134-7bd8-49df-96f0-b29e706f1496",
   "metadata": {},
   "outputs": [],
   "source": [
    "%%time\n",
    "\n",
    "nodeid2_nodeid = dict()\n",
    "\n",
    "for k, v in nodeid_movieid2.items():\n",
    "    nodeid2_nodeid[k] = movieid_nodeid[v]\n",
    "\n",
    "movie_movie_edges = list(combinations(list(nodeid2_nodeid.values()), 2))\n",
    "movie_movie_edges = torch.tensor(movie_movie_edges).transpose(0, 1)"
   ]
  },
  {
   "cell_type": "markdown",
   "id": "ba3fb2a4-3b0c-47e3-b0a6-49b8928d4b8b",
   "metadata": {},
   "source": [
    "## Movie Recommender"
   ]
  },
  {
   "cell_type": "markdown",
   "id": "93473387-7155-4915-9af1-2c87d8707167",
   "metadata": {},
   "source": [
    "## transform to graph"
   ]
  },
  {
   "cell_type": "code",
   "execution_count": null,
   "id": "b47e518a-b760-4e16-9ed3-a31fc1a6fa64",
   "metadata": {},
   "outputs": [],
   "source": [
    "%%time\n",
    "ddata = dd.from_pandas(ratings, npartitions=10)\n",
    "\n",
    "def create_edge_user_movie(x): \n",
    "    return (userid_nodeid[int(x.userid)], movieid_nodeid[int(x.movieid)], x.rating)\n",
    "\n",
    "edges = ddata.map_partitions(lambda df: df.apply((lambda row: create_edge_user_movie(row)), axis=1)).compute() \n",
    "edges = edges.tolist()"
   ]
  },
  {
   "cell_type": "code",
   "execution_count": null,
   "id": "244efc2c-f4fe-4e9c-b8a4-1dca6eda8a06",
   "metadata": {},
   "outputs": [],
   "source": [
    "%%time\n",
    "G = nx.Graph(directed=False)\n",
    "G.add_weighted_edges_from(edges)"
   ]
  },
  {
   "cell_type": "code",
   "execution_count": null,
   "id": "65467139-7886-4622-be30-7832e74d839c",
   "metadata": {},
   "outputs": [],
   "source": [
    "print(\"number of nodes:\", G.number_of_nodes())\n",
    "print(\"number of edges:\", G.number_of_edges())\n",
    "cc = 2 * G.number_of_edges() / G.number_of_nodes()\n",
    "print(\"average node degree:\", cc)\n",
    "print(\"density of network:\", nx.density(G))"
   ]
  },
  {
   "cell_type": "markdown",
   "id": "8b336328-e34b-4b21-a76d-cc5cc0051f18",
   "metadata": {},
   "source": [
    "# Training"
   ]
  },
  {
   "cell_type": "markdown",
   "id": "7017c618-b957-404b-be34-7d733e8618b8",
   "metadata": {},
   "source": [
    "### get edge list"
   ]
  },
  {
   "cell_type": "code",
   "execution_count": null,
   "id": "a362bb78-15ed-4a92-babe-ae9a10e8efc7",
   "metadata": {},
   "outputs": [],
   "source": [
    "pos_edge_list = graph_to_edge_list(G)\n",
    "\n",
    "# split edges\n",
    "split_dict = {\"train\": 0.75, \"test\": 0.25}\n",
    "edges = transductive_edge_split(pos_edge_list, split_dict, seed=825)"
   ]
  },
  {
   "cell_type": "markdown",
   "id": "aff12168-ffbe-472a-b864-6b4274fc91cb",
   "metadata": {},
   "source": [
    "#### create negative samples and labels"
   ]
  },
  {
   "cell_type": "code",
   "execution_count": null,
   "id": "b6d35bed-df59-47a0-b1f2-0d0376f99da3",
   "metadata": {},
   "outputs": [],
   "source": [
    "pos_edge_index = dict()\n",
    "for key, ls in edges.items():\n",
    "    pos_edge_index[key] = edge_list_to_tensor(ls)"
   ]
  },
  {
   "cell_type": "markdown",
   "id": "17c8e00d-2a55-4249-8b26-9cc3c67f18dc",
   "metadata": {},
   "source": [
    "### create embeddings"
   ]
  },
  {
   "cell_type": "code",
   "execution_count": null,
   "id": "f5e453ca-7d43-4ac5-a6b2-d8dab5f33c7a",
   "metadata": {},
   "outputs": [],
   "source": [
    "torch.manual_seed(1)\n",
    "emb = create_node_emb(num_node=G.number_of_nodes())"
   ]
  },
  {
   "cell_type": "code",
   "execution_count": null,
   "id": "220fe64c-9300-4108-80d7-a6db44085cff",
   "metadata": {},
   "outputs": [],
   "source": [
    "users, user_index = pos_edge_index[\"train\"].min(dim=0)\n",
    "movies, movie_index = pos_edge_index[\"train\"].max(dim=0)"
   ]
  },
  {
   "cell_type": "markdown",
   "id": "96a37ce0-cc30-4daa-8b14-14eefde3ece7",
   "metadata": {},
   "source": [
    "### train embeddings"
   ]
  },
  {
   "cell_type": "code",
   "execution_count": null,
   "id": "8a035e79-0d91-4dd8-9584-8525ed3aa00f",
   "metadata": {
    "tags": []
   },
   "outputs": [],
   "source": [
    "from torch.optim import Adam\n",
    "\n",
    "\n",
    "def batch_train(model, pos_edges, n_batches, epochs=181):\n",
    "\n",
    "    learning_rate = 0.001\n",
    "    optimizer = Adam(emb.parameters(), lr=learning_rate)\n",
    "\n",
    "    users, unique_users, index = get_pos_edges_users(pos_edges)\n",
    "    _, unique_movies, _ = get_pos_edges_movies(pos_edges)\n",
    "\n",
    "    for i in range(epochs):\n",
    "        user_batches = user_batch_generator(unique_users, n_batches)\n",
    "        for batch in user_batches:\n",
    "            optimizer.zero_grad()\n",
    "            user_losses = []\n",
    "            for u in batch:\n",
    "\n",
    "                pos_edges_user, neg_edges_user = get_pos_neg_edges_for_user(\n",
    "                    edges=pos_edges,\n",
    "                    users=users,\n",
    "                    u=u,\n",
    "                    unique_movies_set=set(unique_movies),\n",
    "                )\n",
    "\n",
    "                # make predictions and calculate loss\n",
    "                f_pos = model.forward(pos_edges_user)\n",
    "                f_neg = model.forward(neg_edges_user)\n",
    "\n",
    "                ul = brp_loss(f_pos, f_neg)\n",
    "                user_losses.append(ul)\n",
    "\n",
    "            batch_loss = torch.stack(user_losses).mean()\n",
    "\n",
    "            batch_loss.backward()\n",
    "            optimizer.step()\n",
    "\n",
    "        if i % 30 == 0:\n",
    "            print(f\"epoch {i}: loss is: {batch_loss}\")\n",
    "\n",
    "\n",
    "model = SimpleEmbedding(emb)\n",
    "\n",
    "batch_train(model, pos_edge_index[\"train\"], n_batches=100)"
   ]
  },
  {
   "cell_type": "markdown",
   "id": "a3c8048f-a462-4c27-b1bc-430736d32131",
   "metadata": {},
   "source": [
    "### recall@k"
   ]
  },
  {
   "cell_type": "code",
   "execution_count": null,
   "id": "46e376ae-8082-4ede-b720-5f30c55c77c9",
   "metadata": {},
   "outputs": [],
   "source": [
    "evaluation.avg_recall_at_k(\n",
    "    seen_edges=pos_edge_index[\"train\"],\n",
    "    test_edges=pos_edge_index[\"test\"],\n",
    "    model=model,\n",
    "    library=nodeid_movieid.keys(),\n",
    "    users=nodeid_userid.keys(),\n",
    "    k=100,\n",
    ")"
   ]
  },
  {
   "cell_type": "markdown",
   "id": "8e66cd25-bdba-4c95-ac6d-b548453a1322",
   "metadata": {},
   "source": [
    "## improve model by using Light GCN"
   ]
  },
  {
   "cell_type": "code",
   "execution_count": null,
   "id": "88390b1f-2ff0-49fa-829d-e364b1491a75",
   "metadata": {},
   "outputs": [],
   "source": [
    "from model import LightGCN"
   ]
  },
  {
   "cell_type": "code",
   "execution_count": null,
   "id": "6d5798eb-4d5b-43e7-8faf-03c40fc23420",
   "metadata": {},
   "outputs": [],
   "source": [
    "lgcn = LightGCN(5)"
   ]
  },
  {
   "cell_type": "code",
   "execution_count": null,
   "id": "c5802547-883e-42c0-bf37-7e806a493116",
   "metadata": {},
   "outputs": [],
   "source": [
    "res = lgcn.forward(emb.weight, pos_edge_index[\"train\"])"
   ]
  },
  {
   "cell_type": "code",
   "execution_count": null,
   "id": "49202866-f9cb-4123-b7ec-88512c9d3fd1",
   "metadata": {},
   "outputs": [],
   "source": [
    "emb2 = nn.Embedding(emb.num_embeddings, emb.embedding_dim)\n",
    "emb2.weight = nn.Parameter(res)\n",
    "\n",
    "m2 = SimpleEmbedding(emb2)"
   ]
  },
  {
   "cell_type": "code",
   "execution_count": null,
   "id": "f4831ed0-eb6f-4ccb-ba82-a2dad0b7113f",
   "metadata": {},
   "outputs": [],
   "source": [
    "evaluation.avg_recall_at_k(\n",
    "    seen_edges=pos_edge_index[\"train\"],\n",
    "    test_edges=pos_edge_index[\"test\"],\n",
    "    model=m2,\n",
    "    library=nodeid_movieid.keys(),\n",
    "    users=nodeid_userid.keys(),\n",
    "    k=100,\n",
    ")"
   ]
  },
  {
   "cell_type": "markdown",
   "id": "e807e6b9-43d3-484f-a67a-607116472fc6",
   "metadata": {},
   "source": [
    "### add edge weight"
   ]
  },
  {
   "cell_type": "code",
   "execution_count": null,
   "id": "b1601414-a3ef-4065-9780-c2b1eb7b9680",
   "metadata": {},
   "outputs": [],
   "source": [
    "def get_ratings(edges):\n",
    "    ls = []\n",
    "    for i in range(edges.shape[1]):\n",
    "        edge = edges[:, i]\n",
    "        r = G.get_edge_data(*edge.tolist())[\"weight\"]\n",
    "        ls.append(r)\n",
    "    return torch.tensor(ls)"
   ]
  },
  {
   "cell_type": "code",
   "execution_count": null,
   "id": "e0a3fd6a-6201-404b-a310-031e29aebb23",
   "metadata": {},
   "outputs": [],
   "source": [
    "edge_w_ratings = get_ratings(pos_edge_index[\"train\"])"
   ]
  },
  {
   "cell_type": "code",
   "execution_count": null,
   "id": "385af441-91e3-4f5e-aaef-358073af38ae",
   "metadata": {},
   "outputs": [],
   "source": [
    "res = lgcn.forward(emb.weight, pos_edge_index[\"train\"], edge_weight=edge_w_ratings)"
   ]
  },
  {
   "cell_type": "code",
   "execution_count": null,
   "id": "8b4996e9-e359-4a1c-baa3-3cfced0fb96e",
   "metadata": {},
   "outputs": [],
   "source": [
    "emb3 = nn.Embedding(emb.num_embeddings, emb.embedding_dim)\n",
    "emb3.weight = nn.Parameter(res)\n",
    "\n",
    "m3 = SimpleEmbedding(emb3)"
   ]
  },
  {
   "cell_type": "code",
   "execution_count": null,
   "id": "20553467-9024-46d8-b4eb-d9ccac0c8fde",
   "metadata": {},
   "outputs": [],
   "source": [
    "evaluation.avg_recall_at_k(\n",
    "    seen_edges=pos_edge_index[\"train\"],\n",
    "    test_edges=pos_edge_index[\"test\"],\n",
    "    model=m3,\n",
    "    library=nodeid_movieid.keys(),\n",
    "    users=nodeid_userid.keys(),\n",
    "    k=100,\n",
    ")"
   ]
  },
  {
   "cell_type": "markdown",
   "id": "a54a14a2-4c10-4165-99c2-58233ab05a4d",
   "metadata": {},
   "source": [
    "### add more edges between movies"
   ]
  },
  {
   "cell_type": "code",
   "execution_count": null,
   "id": "68ae7736-8679-47e2-a0be-32012f045c81",
   "metadata": {},
   "outputs": [],
   "source": [
    "edges_combined = torch.cat(\n",
    "    [pos_edge_index[\"train\"], movie_movie_edges[:, movie_proximity_weight > 0.90]],\n",
    "    dim=1,\n",
    ")\n",
    "edge_weights_combined = torch.cat(\n",
    "    [edge_w_ratings, movie_proximity_weight[movie_proximity_weight > 0.90] * 0.001]\n",
    ")"
   ]
  },
  {
   "cell_type": "code",
   "execution_count": null,
   "id": "bbef31f5-aa06-4ce0-9903-36b0ba9d61d5",
   "metadata": {},
   "outputs": [],
   "source": [
    "res = lgcn.forward(emb.weight, edges_combined, edge_weight=edge_weights_combined)"
   ]
  },
  {
   "cell_type": "code",
   "execution_count": null,
   "id": "6307298c-c6c2-4416-ab55-01a4b05909e4",
   "metadata": {},
   "outputs": [],
   "source": [
    "emb4 = nn.Embedding(emb.num_embeddings, emb.embedding_dim)\n",
    "emb4.weight = nn.Parameter(res)\n",
    "\n",
    "m4 = SimpleEmbedding(emb4)"
   ]
  },
  {
   "cell_type": "code",
   "execution_count": null,
   "id": "c16ae519-ea5c-4508-b541-849795859e8d",
   "metadata": {},
   "outputs": [],
   "source": [
    "evaluation.avg_recall_at_k(\n",
    "    seen_edges=pos_edge_index[\"train\"],\n",
    "    test_edges=pos_edge_index[\"test\"],\n",
    "    model=m4,\n",
    "    library=nodeid_movieid.keys(),\n",
    "    users=nodeid_userid.keys(),\n",
    "    k=100,\n",
    ")"
   ]
  },
  {
   "cell_type": "code",
   "execution_count": null,
   "id": "8364c123-c298-4fad-9826-eed8809ec56b",
   "metadata": {},
   "outputs": [],
   "source": []
  }
 ],
 "metadata": {
  "kernelspec": {
   "display_name": "Python 3 (ipykernel)",
   "language": "python",
   "name": "python3"
  },
  "language_info": {
   "codemirror_mode": {
    "name": "ipython",
    "version": 3
   },
   "file_extension": ".py",
   "mimetype": "text/x-python",
   "name": "python",
   "nbconvert_exporter": "python",
   "pygments_lexer": "ipython3",
   "version": "3.9.7"
  }
 },
 "nbformat": 4,
 "nbformat_minor": 5
}
