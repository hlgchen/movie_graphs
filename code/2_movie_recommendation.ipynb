{
 "cells": [
  {
   "cell_type": "markdown",
   "id": "3c47a0d2-11d0-40e3-8d77-a84765f24ab2",
   "metadata": {},
   "source": [
    "In this notebook we implemented a simple embedding recommender. Using light GCN we diffuse the embeddings across edges. "
   ]
  },
  {
   "cell_type": "code",
   "execution_count": null,
   "id": "adc97baf-39fe-450e-add4-40f8c5a59089",
   "metadata": {},
   "outputs": [],
   "source": [
    "%load_ext lab_black\n",
    "%load_ext autoreload\n",
    "%autoreload 2"
   ]
  },
  {
   "cell_type": "code",
   "execution_count": null,
   "id": "57a4142c-593f-4d9f-ac72-57bbd91fd7a7",
   "metadata": {},
   "outputs": [],
   "source": [
    "import pandas as pd\n",
    "import numpy as np\n",
    "import dask.dataframe as dd\n",
    "\n",
    "import networkx as nx\n",
    "import torch\n",
    "from torch import nn\n",
    "\n",
    "from model import simple_embedding\n",
    "from utils import *\n",
    "import evaluation"
   ]
  },
  {
   "cell_type": "markdown",
   "id": "7e38ebe8-cb81-46ae-b1ab-d00508e00b6e",
   "metadata": {},
   "source": [
    "### load data"
   ]
  },
  {
   "cell_type": "code",
   "execution_count": null,
   "id": "aadd016d-07fc-45b0-920f-fa5076555eb1",
   "metadata": {},
   "outputs": [],
   "source": [
    "meta = pd.read_csv(\"../data/movies_metadata.csv\")\n",
    "ratings = pd.read_csv(\"../data/ratings.csv\")\n",
    "# ratings = pd.read_csv(\"../data/ratings_small.csv\")\n",
    "links = pd.read_csv(\"../data/links.csv\", dtype=str)\n",
    "\n",
    "meta.columns = meta.columns.str.lower()\n",
    "ratings.columns = ratings.columns.str.lower()\n",
    "links.columns = links.columns.str.lower()\n",
    "\n",
    "meta = meta.rename(columns={\"id\": \"tmdbid\"})\n",
    "\n",
    "links.tmdbid = links.tmdbid.dropna().astype(int)\n",
    "links.movieid = links.movieid.dropna().astype(int)"
   ]
  },
  {
   "cell_type": "code",
   "execution_count": null,
   "id": "2b2db33f-704f-4a41-8c73-4126b367659d",
   "metadata": {},
   "outputs": [],
   "source": [
    "ratings = ratings.loc[ratings.userid < 1500].copy()"
   ]
  },
  {
   "cell_type": "code",
   "execution_count": null,
   "id": "76610a07-8779-4e5b-b58c-8eae1de5da11",
   "metadata": {},
   "outputs": [],
   "source": [
    "meta.tmdbid = pd.to_numeric(meta.tmdbid, errors=\"coerce\")\n",
    "meta = meta.dropna(subset=[\"tmdbid\"])\n",
    "meta = meta.merge(links[[\"movieid\", \"tmdbid\"]], how=\"left\")"
   ]
  },
  {
   "cell_type": "markdown",
   "id": "1b62fdd2-d081-4c6c-b3db-d705c6e0c9e4",
   "metadata": {},
   "source": [
    "#### map userid and movie_id to index"
   ]
  },
  {
   "cell_type": "code",
   "execution_count": null,
   "id": "7caa222c-85e5-4439-934c-9f8494747668",
   "metadata": {},
   "outputs": [],
   "source": [
    "userid = ratings.userid.sort_values().drop_duplicates().reset_index(drop=True)\n",
    "movieid = ratings.movieid.sort_values().drop_duplicates().reset_index(drop=True)\n",
    "movieid.index = movieid.index + len(userid)"
   ]
  },
  {
   "cell_type": "code",
   "execution_count": null,
   "id": "cb1b0a46-c81a-450a-8e2e-ba0d29da1d04",
   "metadata": {},
   "outputs": [],
   "source": [
    "nodeid_userid = userid.to_dict()\n",
    "nodeid_movieid = movieid.to_dict()\n",
    "\n",
    "userid_nodeid = {v: k for k, v in nodeid_userid.items()}\n",
    "movieid_nodeid = {v: k for k, v in nodeid_movieid.items()}"
   ]
  },
  {
   "cell_type": "markdown",
   "id": "93473387-7155-4915-9af1-2c87d8707167",
   "metadata": {},
   "source": [
    "## transform to graph"
   ]
  },
  {
   "cell_type": "code",
   "execution_count": null,
   "id": "b47e518a-b760-4e16-9ed3-a31fc1a6fa64",
   "metadata": {},
   "outputs": [],
   "source": [
    "%%time\n",
    "ddata = dd.from_pandas(ratings, npartitions=10)\n",
    "\n",
    "def create_edge(x): \n",
    "    return (userid_nodeid[int(x.userid)], movieid_nodeid[int(x.movieid)], x.rating)\n",
    "\n",
    "edges = ddata.map_partitions(lambda df: df.apply((lambda row: create_edge(row)), axis=1)).compute() \n",
    "edges = edges.tolist()"
   ]
  },
  {
   "cell_type": "code",
   "execution_count": null,
   "id": "244efc2c-f4fe-4e9c-b8a4-1dca6eda8a06",
   "metadata": {},
   "outputs": [],
   "source": [
    "%%time\n",
    "G = nx.Graph(directed=False)\n",
    "G.add_weighted_edges_from(edges)"
   ]
  },
  {
   "cell_type": "code",
   "execution_count": null,
   "id": "65467139-7886-4622-be30-7832e74d839c",
   "metadata": {},
   "outputs": [],
   "source": [
    "print(\"number of nodes:\", G.number_of_nodes())\n",
    "print(\"number of edges:\", G.number_of_edges())\n",
    "cc = 2 * G.number_of_edges() / G.number_of_nodes()\n",
    "print(\"average node degree:\", cc)\n",
    "print(\"density of network:\", nx.density(G))"
   ]
  },
  {
   "cell_type": "markdown",
   "id": "8b336328-e34b-4b21-a76d-cc5cc0051f18",
   "metadata": {},
   "source": [
    "# Training"
   ]
  },
  {
   "cell_type": "markdown",
   "id": "7017c618-b957-404b-be34-7d733e8618b8",
   "metadata": {},
   "source": [
    "### get edge list"
   ]
  },
  {
   "cell_type": "code",
   "execution_count": null,
   "id": "a362bb78-15ed-4a92-babe-ae9a10e8efc7",
   "metadata": {},
   "outputs": [],
   "source": [
    "pos_edge_list = graph_to_edge_list(G)\n",
    "\n",
    "# split edges\n",
    "split_dict = {\"train\": 0.75, \"test\": 0.25}\n",
    "edges = transductive_edge_split(pos_edge_list, split_dict, seed=825)"
   ]
  },
  {
   "cell_type": "markdown",
   "id": "aff12168-ffbe-472a-b864-6b4274fc91cb",
   "metadata": {},
   "source": [
    "#### create negative samples and labels"
   ]
  },
  {
   "cell_type": "code",
   "execution_count": null,
   "id": "7f4af09b-10eb-434b-acea-4ef0d556d796",
   "metadata": {},
   "outputs": [],
   "source": [
    "pos_edge_index = dict()\n",
    "neg_edge_index = dict()\n",
    "pos_label = dict()\n",
    "neg_label = dict()\n",
    "\n",
    "for key, ls in edges.items():\n",
    "    pos_edge_index[key] = edge_list_to_tensor(ls)\n",
    "\n",
    "    neg_edge_list = sample_negative_edges(G, len(ls))\n",
    "    neg_edge_index[key] = edge_list_to_tensor(neg_edge_list)\n",
    "\n",
    "    pos_label[key] = torch.ones(pos_edge_index[key].shape[1])\n",
    "    neg_label[key] = torch.zeros(neg_edge_index[key].shape[1])"
   ]
  },
  {
   "cell_type": "markdown",
   "id": "17c8e00d-2a55-4249-8b26-9cc3c67f18dc",
   "metadata": {},
   "source": [
    "### create embeddings"
   ]
  },
  {
   "cell_type": "code",
   "execution_count": null,
   "id": "f5e453ca-7d43-4ac5-a6b2-d8dab5f33c7a",
   "metadata": {},
   "outputs": [],
   "source": [
    "torch.manual_seed(1)\n",
    "emb = create_node_emb(num_node=G.number_of_nodes())"
   ]
  },
  {
   "cell_type": "markdown",
   "id": "96a37ce0-cc30-4daa-8b14-14eefde3ece7",
   "metadata": {},
   "source": [
    "### train embeddings"
   ]
  },
  {
   "cell_type": "code",
   "execution_count": null,
   "id": "8a035e79-0d91-4dd8-9584-8525ed3aa00f",
   "metadata": {
    "tags": []
   },
   "outputs": [],
   "source": [
    "from torch.optim import Adam\n",
    "\n",
    "\n",
    "def train(model, train_label, train_edge, epochs=2000):\n",
    "\n",
    "    learning_rate = 0.001\n",
    "\n",
    "    optimizer = Adam(emb.parameters(), lr=learning_rate)\n",
    "\n",
    "    for i in range(epochs):\n",
    "        optimizer.zero_grad()\n",
    "\n",
    "        pred = model.forward(train_edge)\n",
    "        loss = model.loss_fn(pred, train_label)\n",
    "\n",
    "        loss.backward()\n",
    "        optimizer.step()\n",
    "\n",
    "        if i % 500 == 0:\n",
    "            print(\n",
    "                f\"epoch {i}: loss is: {loss}, accuracy is {accuracy(pred, train_label)}\"\n",
    "            )\n",
    "\n",
    "\n",
    "train_label = torch.cat([pos_label[\"train\"], neg_label[\"train\"]], dim=0)\n",
    "train_edge = torch.cat([pos_edge_index[\"train\"], neg_edge_index[\"train\"]], dim=1)\n",
    "\n",
    "model = simple_embedding(emb)\n",
    "\n",
    "train(model, train_label, train_edge)"
   ]
  },
  {
   "cell_type": "markdown",
   "id": "a3c8048f-a462-4c27-b1bc-430736d32131",
   "metadata": {},
   "source": [
    "### recall@k"
   ]
  },
  {
   "cell_type": "code",
   "execution_count": null,
   "id": "46e376ae-8082-4ede-b720-5f30c55c77c9",
   "metadata": {},
   "outputs": [],
   "source": [
    "evaluation.avg_recall_at_k(\n",
    "    train_edges=pos_edge_index[\"train\"],\n",
    "    test_edges=pos_edge_index[\"test\"],\n",
    "    model=model,\n",
    "    library=nodeid_movieid.keys(),\n",
    "    users=nodeid_userid.keys(),\n",
    "    k=100,\n",
    ")"
   ]
  },
  {
   "cell_type": "markdown",
   "id": "8e66cd25-bdba-4c95-ac6d-b548453a1322",
   "metadata": {},
   "source": [
    "## improve model by using Light GCN"
   ]
  },
  {
   "cell_type": "code",
   "execution_count": null,
   "id": "88390b1f-2ff0-49fa-829d-e364b1491a75",
   "metadata": {},
   "outputs": [],
   "source": [
    "from model import LightGCN"
   ]
  },
  {
   "cell_type": "code",
   "execution_count": null,
   "id": "6d5798eb-4d5b-43e7-8faf-03c40fc23420",
   "metadata": {},
   "outputs": [],
   "source": [
    "lgcn = LightGCN(5)"
   ]
  },
  {
   "cell_type": "code",
   "execution_count": null,
   "id": "c5802547-883e-42c0-bf37-7e806a493116",
   "metadata": {},
   "outputs": [],
   "source": [
    "res = lgcn.forward(emb.weight, pos_edge_index[\"train\"])"
   ]
  },
  {
   "cell_type": "code",
   "execution_count": null,
   "id": "49202866-f9cb-4123-b7ec-88512c9d3fd1",
   "metadata": {},
   "outputs": [],
   "source": [
    "emb2 = nn.Embedding(emb.num_embeddings, emb.embedding_dim)\n",
    "emb2.weight = nn.Parameter(res)\n",
    "\n",
    "m2 = simple_embedding(emb2)"
   ]
  },
  {
   "cell_type": "code",
   "execution_count": null,
   "id": "f4831ed0-eb6f-4ccb-ba82-a2dad0b7113f",
   "metadata": {},
   "outputs": [],
   "source": [
    "evaluation.avg_recall_at_k(\n",
    "    train_edges=pos_edge_index[\"train\"],\n",
    "    test_edges=pos_edge_index[\"test\"],\n",
    "    model=m2,\n",
    "    library=nodeid_movieid.keys(),\n",
    "    users=nodeid_userid.keys(),\n",
    "    k=100,\n",
    ")"
   ]
  },
  {
   "cell_type": "code",
   "execution_count": null,
   "id": "e43d7a96-734d-47cd-8126-f44b384d76b0",
   "metadata": {},
   "outputs": [],
   "source": []
  }
 ],
 "metadata": {
  "kernelspec": {
   "display_name": "Python 3 (ipykernel)",
   "language": "python",
   "name": "python3"
  },
  "language_info": {
   "codemirror_mode": {
    "name": "ipython",
    "version": 3
   },
   "file_extension": ".py",
   "mimetype": "text/x-python",
   "name": "python",
   "nbconvert_exporter": "python",
   "pygments_lexer": "ipython3",
   "version": "3.9.7"
  }
 },
 "nbformat": 4,
 "nbformat_minor": 5
}
