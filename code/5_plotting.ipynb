{
 "cells": [
  {
   "cell_type": "code",
   "execution_count": 1,
   "id": "17b8df9b-1e8d-479a-8c0e-44dbf7c01bea",
   "metadata": {},
   "outputs": [],
   "source": [
    "%load_ext lab_black\n",
    "%load_ext autoreload\n",
    "%autoreload 2"
   ]
  },
  {
   "cell_type": "code",
   "execution_count": 45,
   "id": "1a621999-e6a6-48aa-8c58-7c0a90092b30",
   "metadata": {},
   "outputs": [],
   "source": [
    "import pandas as pd\n",
    "import numpy as np\n",
    "import dask.dataframe as dd\n",
    "\n",
    "import networkx as nx\n",
    "import torch\n",
    "from torch import nn\n",
    "\n",
    "from model import simple_embedding\n",
    "from utils import *\n",
    "import evaluation\n",
    "\n",
    "from matplotlib import pyplot as plt\n",
    "import matplotlib"
   ]
  },
  {
   "cell_type": "markdown",
   "id": "99c39c89-954a-44da-a1fc-736aa756a243",
   "metadata": {},
   "source": [
    "### graph"
   ]
  },
  {
   "cell_type": "code",
   "execution_count": 3,
   "id": "6843f87f-6a26-48e4-a2fd-75d81e3f70bf",
   "metadata": {},
   "outputs": [],
   "source": [
    "nodeid_mapping = {\n",
    "    0: \"user1\",\n",
    "    1: \"user2\",\n",
    "    2: \"user3\",\n",
    "    3: \"movie1\",\n",
    "    4: \"movie2\",\n",
    "    5: \"movie3\",\n",
    "    6: \"movie4\",\n",
    "    7: \"movie5\",\n",
    "}"
   ]
  },
  {
   "cell_type": "code",
   "execution_count": 4,
   "id": "2826ad76-3540-4784-925f-f2fc2bec2714",
   "metadata": {},
   "outputs": [],
   "source": [
    "edges = [(0, 3), (0, 4), (0, 7), (1, 3), (1, 4), (1, 5), (2, 6), (2, 7), (2, 5)]"
   ]
  },
  {
   "cell_type": "code",
   "execution_count": 12,
   "id": "bb37e5c0-00c5-495b-8e80-e2aa0ffdbecc",
   "metadata": {},
   "outputs": [],
   "source": [
    "G = nx.Graph()\n",
    "G.add_edges_from(edges)"
   ]
  },
  {
   "cell_type": "code",
   "execution_count": 13,
   "id": "a6088594-1051-4e00-b854-77ea8110d783",
   "metadata": {},
   "outputs": [],
   "source": [
    "pos_edge_list = graph_to_edge_list(G)\n",
    "pos_edge_index = edge_list_to_tensor(pos_edge_list)"
   ]
  },
  {
   "cell_type": "code",
   "execution_count": 14,
   "id": "ea54ab5f-f0c5-46c3-aec0-e99620307989",
   "metadata": {},
   "outputs": [],
   "source": [
    "from model import LightGCN"
   ]
  },
  {
   "cell_type": "code",
   "execution_count": 20,
   "id": "891a6fc8-abd0-45ed-92e4-2442abb4b7c4",
   "metadata": {},
   "outputs": [],
   "source": [
    "emb = torch.tensor([0, 1, 0, 0, 0, 0, 0, 0]).unsqueeze(-1)"
   ]
  },
  {
   "cell_type": "code",
   "execution_count": 85,
   "id": "74299490-17e1-49d5-b77e-08e7b6ed7c4b",
   "metadata": {},
   "outputs": [],
   "source": [
    "def get_emb_lgcn(passes, start):\n",
    "    result = start.clone()\n",
    "    if passes >= 2:\n",
    "        lgcn = LightGCN(passes)\n",
    "        result = lgcn.forward(result, pos_edge_index)\n",
    "\n",
    "    result = {i: result[i, 0].item() ** 0.5 for i in range(8)}\n",
    "    return result"
   ]
  },
  {
   "cell_type": "code",
   "execution_count": 86,
   "id": "98e9060b-1596-49a6-9f0c-5877ffe10024",
   "metadata": {},
   "outputs": [],
   "source": [
    "def update(i):\n",
    "    ax.clear()\n",
    "    ax.set_title(f\"lgcn {i}\")\n",
    "    val_map = get_emb_lgcn(1 + i, emb)\n",
    "    values = [val_map.get(node, 0.25) for node in G.nodes()]\n",
    "\n",
    "    nx.draw(\n",
    "        G,\n",
    "        cmap=plt.get_cmap(\"Greys\"),\n",
    "        pos=pos,\n",
    "        node_color=values,\n",
    "        with_labels=True,\n",
    "        font_color=\"orange\",\n",
    "        node_size=1000,\n",
    "        edgecolors=\"black\",\n",
    "        vmin=0,\n",
    "        vmax=1,\n",
    "        ax=ax,\n",
    "    )"
   ]
  },
  {
   "cell_type": "code",
   "execution_count": 87,
   "id": "c842c854-63f0-4b2c-b149-d4300904ecff",
   "metadata": {},
   "outputs": [
    {
     "data": {
      "text/plain": [
       "Text(0.5, 1.0, 'lgcn 1')"
      ]
     },
     "execution_count": 87,
     "metadata": {},
     "output_type": "execute_result"
    },
    {
     "data": {
      "image/png": "[encoded data removed]",
      "text/plain": [
       "<Figure size 720x360 with 1 Axes>"
      ]
     },
     "metadata": {},
     "output_type": "display_data"
    }
   ],
   "source": [
    "val_map = get_emb_lgcn(1, emb)\n",
    "\n",
    "values = [val_map.get(node, 0.25) for node in G.nodes()]\n",
    "\n",
    "\n",
    "pos = {\n",
    "    0: (1, 0),\n",
    "    1: (1, 1),\n",
    "    2: (1, 2),\n",
    "    3: (2, 0),\n",
    "    4: (2, 1),\n",
    "    5: (2, 2),\n",
    "    6: (2, 3),\n",
    "    7: (2, 4),\n",
    "}\n",
    "\n",
    "fig, ax = plt.subplots(figsize=(10, 5))\n",
    "nx.draw(\n",
    "    G,\n",
    "    cmap=plt.get_cmap(\"Greys\"),\n",
    "    pos=pos,\n",
    "    node_color=values,\n",
    "    with_labels=True,\n",
    "    font_color=\"orange\",\n",
    "    node_size=1000,\n",
    "    edgecolors=\"black\",\n",
    "    vmin=0,\n",
    "    vmax=1,\n",
    "    ax=ax,\n",
    ")\n",
    "ax.set_title(\"lgcn 1\")"
   ]
  },
  {
   "cell_type": "code",
   "execution_count": 88,
   "id": "85bcbd16-226d-4520-987a-ec6c47c08482",
   "metadata": {},
   "outputs": [
    {
     "name": "stderr",
     "output_type": "stream",
     "text": [
      "MovieWriter imagemagick unavailable; using Pillow instead.\n"
     ]
    }
   ],
   "source": [
    "ani = matplotlib.animation.FuncAnimation(\n",
    "    fig, update, frames=range(5), interval=2000, repeat=True\n",
    ")\n",
    "ani.save(\"network.gif\", dpi=80, writer=\"imagemagick\")\n",
    "plt.show()"
   ]
  },
  {
   "cell_type": "code",
   "execution_count": 89,
   "id": "0c2cb5bb-27d6-4733-926d-4c4ba87a4a17",
   "metadata": {},
   "outputs": [
    {
     "data": {
      "text/plain": [
       "<matplotlib.animation.FuncAnimation at 0x162e2efa0>"
      ]
     },
     "execution_count": 89,
     "metadata": {},
     "output_type": "execute_result"
    }
   ],
   "source": [
    "ani"
   ]
  },
  {
   "cell_type": "code",
   "execution_count": null,
   "id": "0cdfdb2a-3fee-4e6e-9d2c-87377afb66ff",
   "metadata": {},
   "outputs": [],
   "source": []
  }
 ],
 "metadata": {
  "kernelspec": {
   "display_name": "Python 3 (ipykernel)",
   "language": "python",
   "name": "python3"
  },
  "language_info": {
   "codemirror_mode": {
    "name": "ipython",
    "version": 3
   },
   "file_extension": ".py",
   "mimetype": "text/x-python",
   "name": "python",
   "nbconvert_exporter": "python",
   "pygments_lexer": "ipython3",
   "version": "3.9.7"
  }
 },
 "nbformat": 4,
 "nbformat_minor": 5
}
