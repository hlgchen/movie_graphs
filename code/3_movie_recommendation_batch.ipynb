{
 "cells": [
  {
   "cell_type": "markdown",
   "id": "c70b54c7-0100-4ff0-8321-8dd1544fea7a",
   "metadata": {},
   "source": [
    "In this notebook we implemented a simple embedding recommender. Using light GCN we diffuse the embeddings across edges. \n",
    "\n",
    "The difference to notebook 2 is that training is done in batches and the brp loss is optimized instead of the binary cross entropy loss."
   ]
  },
  {
   "cell_type": "code",
   "execution_count": null,
   "id": "adc97baf-39fe-450e-add4-40f8c5a59089",
   "metadata": {},
   "outputs": [],
   "source": [
    "%load_ext lab_black\n",
    "%load_ext autoreload\n",
    "%autoreload 2"
   ]
  },
  {
   "cell_type": "code",
   "execution_count": null,
   "id": "57a4142c-593f-4d9f-ac72-57bbd91fd7a7",
   "metadata": {},
   "outputs": [],
   "source": [
    "import pandas as pd\n",
    "import dask.dataframe as dd\n",
    "\n",
    "import networkx as nx\n",
    "import torch\n",
    "from torch import nn\n",
    "from torch.optim import Adam\n",
    "\n",
    "from model import SimpleEmbedding\n",
    "import evaluation\n",
    "from utils import *"
   ]
  },
  {
   "cell_type": "markdown",
   "id": "7e38ebe8-cb81-46ae-b1ab-d00508e00b6e",
   "metadata": {},
   "source": [
    "### load data"
   ]
  },
  {
   "cell_type": "code",
   "execution_count": null,
   "id": "aadd016d-07fc-45b0-920f-fa5076555eb1",
   "metadata": {},
   "outputs": [],
   "source": [
    "ratings = pd.read_csv(\"../data/ratings.csv\")\n",
    "ratings.columns = ratings.columns.str.lower()\n",
    "\n",
    "ratings = ratings.loc[ratings.userid < 1500].copy()"
   ]
  },
  {
   "cell_type": "markdown",
   "id": "93473387-7155-4915-9af1-2c87d8707167",
   "metadata": {},
   "source": [
    "## transform data to graph"
   ]
  },
  {
   "cell_type": "markdown",
   "id": "73380609-c3f9-4c14-81ca-5e75a58864ea",
   "metadata": {},
   "source": [
    "#### map userid and movieid to node-index"
   ]
  },
  {
   "cell_type": "code",
   "execution_count": null,
   "id": "602aa887-bae7-4375-b0a3-7495f40b32f8",
   "metadata": {},
   "outputs": [],
   "source": [
    "nodeid_userid, nodeid_movieid, userid_nodeid, movieid_nodeid = get_mapping(ratings)"
   ]
  },
  {
   "cell_type": "markdown",
   "id": "f8425448-07ff-4a2b-8594-ceb7a10e4275",
   "metadata": {},
   "source": [
    "#### get edge list"
   ]
  },
  {
   "cell_type": "code",
   "execution_count": null,
   "id": "b47e518a-b760-4e16-9ed3-a31fc1a6fa64",
   "metadata": {},
   "outputs": [],
   "source": [
    "%%time\n",
    "ddata = dd.from_pandas(ratings, npartitions=10)\n",
    "\n",
    "def create_edge(x): \n",
    "    return (userid_nodeid[int(x.userid)], movieid_nodeid[int(x.movieid)], x.rating)\n",
    "\n",
    "edges = ddata.map_partitions(lambda df: df.apply((lambda row: create_edge(row)), axis=1)).compute() \n",
    "edges = edges.tolist()"
   ]
  },
  {
   "cell_type": "markdown",
   "id": "f1dff1a1-9eb6-40d3-a79a-065c87cd2aab",
   "metadata": {},
   "source": [
    "#### create graph "
   ]
  },
  {
   "cell_type": "code",
   "execution_count": null,
   "id": "244efc2c-f4fe-4e9c-b8a4-1dca6eda8a06",
   "metadata": {},
   "outputs": [],
   "source": [
    "%%time\n",
    "G = nx.Graph(directed=False)\n",
    "G.add_weighted_edges_from(edges)"
   ]
  },
  {
   "cell_type": "code",
   "execution_count": null,
   "id": "65467139-7886-4622-be30-7832e74d839c",
   "metadata": {},
   "outputs": [],
   "source": [
    "print(\"number of nodes:\", G.number_of_nodes())\n",
    "print(\"number of edges:\", G.number_of_edges())\n",
    "cc = 2 * G.number_of_edges() / G.number_of_nodes()\n",
    "print(\"average node degree:\", cc)\n",
    "print(\"density of network:\", nx.density(G))"
   ]
  },
  {
   "cell_type": "markdown",
   "id": "8b336328-e34b-4b21-a76d-cc5cc0051f18",
   "metadata": {},
   "source": [
    "# Training"
   ]
  },
  {
   "cell_type": "markdown",
   "id": "7017c618-b957-404b-be34-7d733e8618b8",
   "metadata": {},
   "source": [
    "#### get edge list"
   ]
  },
  {
   "cell_type": "code",
   "execution_count": null,
   "id": "a362bb78-15ed-4a92-babe-ae9a10e8efc7",
   "metadata": {},
   "outputs": [],
   "source": [
    "pos_edge_list = graph_to_edge_list(G)\n",
    "\n",
    "# split edges\n",
    "split_dict = {\"train\": 0.75, \"valid\": 0.1, \"test\": 0.15}\n",
    "edges = transductive_edge_split(pos_edge_list, split_dict, seed=825)"
   ]
  },
  {
   "cell_type": "markdown",
   "id": "aff12168-ffbe-472a-b864-6b4274fc91cb",
   "metadata": {},
   "source": [
    "#### create negative samples and labels"
   ]
  },
  {
   "cell_type": "code",
   "execution_count": null,
   "id": "b6d35bed-df59-47a0-b1f2-0d0376f99da3",
   "metadata": {},
   "outputs": [],
   "source": [
    "pos_edge_index = dict()\n",
    "for key, ls in edges.items():\n",
    "    pos_edge_index[key] = edge_list_to_tensor(ls)"
   ]
  },
  {
   "cell_type": "markdown",
   "id": "628206b1-a0c3-4b29-ab0a-df36dbd7e606",
   "metadata": {},
   "source": [
    "### Train Embeddings"
   ]
  },
  {
   "cell_type": "markdown",
   "id": "570cb726-58bc-45c3-a286-1f19f2af9f89",
   "metadata": {},
   "source": [
    "#### Training Loop"
   ]
  },
  {
   "cell_type": "code",
   "execution_count": null,
   "id": "cae9b16d-0b16-4b91-a742-abbe517aac35",
   "metadata": {},
   "outputs": [],
   "source": [
    "def batch_train(\n",
    "    model, train_edges, n_batches, valid_edges=None, epochs=181, early_stopping=2\n",
    "):\n",
    "    \"\"\"\n",
    "    Trains embeddings with BRP loss and using user batches. Negtaive Edges for each user\n",
    "    are sampled on the fly.\n",
    "\n",
    "    Params:\n",
    "        - model: SimpleEmbedding Model\n",
    "        - train_edges: torch.Tensor with shape (2, n_positive_edges).\n",
    "                    Conatains positive edges of training set.\n",
    "        - n_batches: number of user batches.\n",
    "        - valid_edges: analogous to train_edge\n",
    "        - epochs: number of maximum epochs to train\n",
    "        - early_stopping: (int) if this value is greater than 0, training is stopped if the\n",
    "                            validation accuracy goes down \"early_stopping\" times in a row.\n",
    "\n",
    "    \"\"\"\n",
    "\n",
    "    learning_rate = 0.003\n",
    "    optimizer = Adam(emb.parameters(), lr=learning_rate)\n",
    "\n",
    "    users, unique_users, index = get_pos_edges_users(train_edges)\n",
    "    _, unique_movies, _ = get_pos_edges_movies(train_edges)\n",
    "\n",
    "    descreasing = 0\n",
    "    valid_recall_k = 0\n",
    "\n",
    "    for i in range(epochs):\n",
    "        user_batches = user_batch_generator(unique_users, n_batches)\n",
    "        for batch in user_batches:\n",
    "            optimizer.zero_grad()\n",
    "            user_losses = []\n",
    "            for u in batch:\n",
    "\n",
    "                pos_edges_user, neg_edges_user = get_pos_neg_edges_for_user(\n",
    "                    edges=train_edges,\n",
    "                    users=users,\n",
    "                    u=u,\n",
    "                    unique_movies_set=set(unique_movies),\n",
    "                )\n",
    "\n",
    "                # make predictions and calculate loss\n",
    "                f_pos = model.forward(pos_edges_user)\n",
    "                f_neg = model.forward(neg_edges_user)\n",
    "\n",
    "                ul = brp_loss(f_pos, f_neg)\n",
    "                user_losses.append(ul)\n",
    "\n",
    "            batch_loss = torch.stack(user_losses).mean()\n",
    "\n",
    "            batch_loss.backward()\n",
    "            optimizer.step()\n",
    "\n",
    "        if i % 10 == 0:\n",
    "\n",
    "            if valid_edges is not None:\n",
    "                valid_recall_k_new = evaluation.avg_recall_at_k(\n",
    "                    seen_edges=pos_edge_index[\"train\"],\n",
    "                    test_edges=pos_edge_index[\"valid\"],\n",
    "                    model=model,\n",
    "                    library=nodeid_movieid.keys(),\n",
    "                    users=nodeid_userid.keys(),\n",
    "                    k=100,\n",
    "                )\n",
    "                if early_stopping > 0:\n",
    "                    if valid_recall_k_new <= valid_recall_k:\n",
    "                        decreasing += 1\n",
    "                    else:\n",
    "                        decreasing = 0\n",
    "                    if decreasing == early_stopping:\n",
    "                        break\n",
    "                valid_recall_k = valid_recall_k_new\n",
    "\n",
    "            print(\n",
    "                f\"epoch {i}: loss is: {batch_loss}, valid recall@100: {valid_recall_k}\"\n",
    "            )"
   ]
  },
  {
   "cell_type": "markdown",
   "id": "8c9adb15-872a-4a07-bac7-c43962d11674",
   "metadata": {},
   "source": [
    "#### Initialize Embedding Training"
   ]
  },
  {
   "cell_type": "code",
   "execution_count": null,
   "id": "87ab01e3-56f9-4ca8-b81d-7b5f67f7b2e5",
   "metadata": {},
   "outputs": [],
   "source": [
    "torch.manual_seed(1)\n",
    "emb = create_node_emb(num_node=G.number_of_nodes())\n",
    "\n",
    "embedding_brp_model = SimpleEmbedding(emb)\n",
    "\n",
    "batch_train(\n",
    "    embedding_brp_model,\n",
    "    pos_edge_index[\"train\"],\n",
    "    n_batches=100,\n",
    "    valid_edges=pos_edge_index[\"valid\"],\n",
    "    early_stopping=2,\n",
    ")"
   ]
  },
  {
   "cell_type": "markdown",
   "id": "6e486b9b-182c-4eda-b8c0-3f808271ed1c",
   "metadata": {},
   "source": [
    "### Recall@100 on Testset"
   ]
  },
  {
   "cell_type": "code",
   "execution_count": null,
   "id": "fe47e4bc-5b21-4566-bb9f-14a3167ca8ee",
   "metadata": {},
   "outputs": [],
   "source": [
    "recall100_embedding_brp_model = evaluation.avg_recall_at_k(\n",
    "    seen_edges=torch.cat([pos_edge_index[\"train\"], pos_edge_index[\"valid\"]], dim=1),\n",
    "    test_edges=pos_edge_index[\"test\"],\n",
    "    model=embedding_brp_model,\n",
    "    library=nodeid_movieid.keys(),\n",
    "    users=nodeid_userid.keys(),\n",
    "    k=100,\n",
    ")\n",
    "\n",
    "recall100_embedding_brp_model"
   ]
  },
  {
   "cell_type": "markdown",
   "id": "55ad7cfe-b228-4b49-b7ef-0222ee4b23db",
   "metadata": {},
   "source": [
    "## improve model by using Light GCN"
   ]
  },
  {
   "cell_type": "code",
   "execution_count": null,
   "id": "0d255c3e-7a56-4fc6-b72d-6a241a5255ca",
   "metadata": {},
   "outputs": [],
   "source": [
    "from model import LightGCN"
   ]
  },
  {
   "cell_type": "code",
   "execution_count": null,
   "id": "53a3db9d-1834-402c-b8c8-afce75e876a4",
   "metadata": {},
   "outputs": [],
   "source": [
    "def get_lgcn_embedding_model(emb, message_edges, n_layers, edge_weight=None):\n",
    "    \"\"\"\n",
    "    Returns Embedding model where embedding weights are the outcome of LGCN smoothing.\n",
    "    params:\n",
    "        - emb: Embedding to be smoothed with LGCN\n",
    "        - message_edges: edges along which LGCN should pass embeddings for smoothing\n",
    "        - n_layers: number of LGCN layers\n",
    "        - edge_weight: if specified smoothing takes edge weight into account\n",
    "\n",
    "    \"\"\"\n",
    "    lgcn = LightGCN(n_layers)\n",
    "    res = lgcn.forward(emb.weight, message_edges, edge_weight=edge_weight)\n",
    "\n",
    "    lgcn_emb = nn.Embedding(emb.num_embeddings, emb.embedding_dim)\n",
    "    lgcn_emb.weight = nn.Parameter(res)\n",
    "\n",
    "    lgcn_emb_model = SimpleEmbedding(lgcn_emb)\n",
    "    return lgcn_emb_model\n",
    "\n",
    "\n",
    "def get_best_lgcn_layer(emb, min_i=2, max_i=20, verbose=False):\n",
    "    \"\"\"\n",
    "    Returns layer number according to recall@100 on validationset.\n",
    "    Prints validation recall@100 for different layers (hyperparameter tuning of layer number)\n",
    "    params:\n",
    "        - emb: embedding to be passed along\n",
    "        - min_i: minimum layer number\n",
    "        - max_i: maximum layer number\n",
    "        - verbose: (boolean) if True outputs validation recall for each layer tried,\n",
    "                    else only the best layer\n",
    "    \"\"\"\n",
    "    best_recall = 0\n",
    "    best_param = None\n",
    "    for i in range(min_i, max_i):\n",
    "        lgcn_emb_model = get_lgcn_embedding_model(\n",
    "            emb=emb, message_edges=pos_edge_index[\"train\"], n_layers=i\n",
    "        )\n",
    "\n",
    "        recall_validation = evaluation.avg_recall_at_k(\n",
    "            seen_edges=pos_edge_index[\"train\"],\n",
    "            test_edges=pos_edge_index[\"valid\"],\n",
    "            model=lgcn_emb_model,\n",
    "            library=nodeid_movieid.keys(),\n",
    "            users=nodeid_userid.keys(),\n",
    "            k=100,\n",
    "        )\n",
    "        if verbose:\n",
    "            print(f\"n_layer {i} : \", recall_validation)\n",
    "        if recall_validation > best_recall:\n",
    "            best_param = i\n",
    "            best_recall = recall_validation\n",
    "    print(f\"best param: {best_param}\")\n",
    "    return best_param"
   ]
  },
  {
   "cell_type": "code",
   "execution_count": null,
   "id": "e62a9daf-861b-4e2e-ab4b-dcc55767f885",
   "metadata": {},
   "outputs": [],
   "source": [
    "n1 = get_best_lgcn_layer(embedding_brp_model.emb)\n",
    "\n",
    "lgcn_embedding_brp_model = get_lgcn_embedding_model(\n",
    "    emb=embedding_brp_model.emb,\n",
    "    message_edges=torch.cat([pos_edge_index[\"train\"], pos_edge_index[\"valid\"]], dim=1),\n",
    "    n_layers=n1,\n",
    ")"
   ]
  },
  {
   "cell_type": "markdown",
   "id": "27028e35-daba-4473-b544-1818a3fe3b3e",
   "metadata": {},
   "source": [
    "## Testset result"
   ]
  },
  {
   "cell_type": "code",
   "execution_count": null,
   "id": "96123b6c-a5c3-447d-b459-839dad4ca863",
   "metadata": {},
   "outputs": [],
   "source": [
    "recall100_lgcn_embedding_brp_model = evaluation.avg_recall_at_k(\n",
    "    seen_edges=torch.cat([pos_edge_index[\"train\"], pos_edge_index[\"valid\"]], dim=1),\n",
    "    test_edges=pos_edge_index[\"test\"],\n",
    "    model=lgcn_embedding_brp_model,\n",
    "    library=nodeid_movieid.keys(),\n",
    "    users=nodeid_userid.keys(),\n",
    "    k=100,\n",
    ")\n",
    "\n",
    "recall100_lgcn_embedding_brp_model"
   ]
  },
  {
   "cell_type": "markdown",
   "id": "a7224b38-512e-4a8b-91f3-9011055015bb",
   "metadata": {},
   "source": [
    "### Improve Embedding by Using Ratings"
   ]
  },
  {
   "cell_type": "code",
   "execution_count": null,
   "id": "7deff857-ff2d-4ec6-899c-3068f3f1e9be",
   "metadata": {},
   "outputs": [],
   "source": [
    "def get_ratings(edges):\n",
    "    \"\"\"Returns tensor of shape [(number of edges)] with edge weights for each edge.\"\"\"\n",
    "    ls = []\n",
    "    for i in range(edges.shape[1]):\n",
    "        edge = edges[:, i]\n",
    "        r = G.get_edge_data(*edge.tolist())[\"weight\"]\n",
    "        ls.append(r)\n",
    "    return torch.tensor(ls)\n",
    "\n",
    "\n",
    "edge_w_ratings = get_ratings(\n",
    "    torch.cat([pos_edge_index[\"train\"], pos_edge_index[\"valid\"]], dim=1)\n",
    ")"
   ]
  },
  {
   "cell_type": "code",
   "execution_count": null,
   "id": "a9ca2370-805c-4e44-814f-727abc363f06",
   "metadata": {},
   "outputs": [],
   "source": [
    "lgcn_embedding_brp_model_ratings = get_lgcn_embedding_model(\n",
    "    emb=embedding_brp_model.emb,\n",
    "    message_edges=torch.cat([pos_edge_index[\"train\"], pos_edge_index[\"valid\"]], dim=1),\n",
    "    n_layers=n1,\n",
    "    edge_weight=edge_w_ratings,\n",
    ")"
   ]
  },
  {
   "cell_type": "code",
   "execution_count": null,
   "id": "d7ea9523-1b11-40bf-8e7d-088e60a9f520",
   "metadata": {},
   "outputs": [],
   "source": [
    "recall100_lgcn_embedding_brp_model_ratings = evaluation.avg_recall_at_k(\n",
    "    seen_edges=torch.cat([pos_edge_index[\"train\"], pos_edge_index[\"valid\"]], dim=1),\n",
    "    test_edges=pos_edge_index[\"test\"],\n",
    "    model=lgcn_embedding_brp_model_ratings,\n",
    "    library=nodeid_movieid.keys(),\n",
    "    users=nodeid_userid.keys(),\n",
    "    k=100,\n",
    ")\n",
    "\n",
    "recall100_lgcn_embedding_brp_model_ratings"
   ]
  },
  {
   "cell_type": "code",
   "execution_count": null,
   "id": "10346e74-b84d-49a1-8460-a80a7645315a",
   "metadata": {},
   "outputs": [],
   "source": []
  }
 ],
 "metadata": {
  "kernelspec": {
   "display_name": "Python 3 (ipykernel)",
   "language": "python",
   "name": "python3"
  },
  "language_info": {
   "codemirror_mode": {
    "name": "ipython",
    "version": 3
   },
   "file_extension": ".py",
   "mimetype": "text/x-python",
   "name": "python",
   "nbconvert_exporter": "python",
   "pygments_lexer": "ipython3",
   "version": "3.9.7"
  }
 },
 "nbformat": 4,
 "nbformat_minor": 5
}
