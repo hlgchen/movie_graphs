{
 "cells": [
  {
   "cell_type": "code",
   "execution_count": null,
   "id": "adc97baf-39fe-450e-add4-40f8c5a59089",
   "metadata": {},
   "outputs": [],
   "source": [
    "%load_ext lab_black\n",
    "%load_ext autoreload\n",
    "%autoreload 2"
   ]
  },
  {
   "cell_type": "code",
   "execution_count": null,
   "id": "57a4142c-593f-4d9f-ac72-57bbd91fd7a7",
   "metadata": {},
   "outputs": [],
   "source": [
    "import pandas as pd\n",
    "import numpy as np\n",
    "import dask.dataframe as dd\n",
    "\n",
    "import networkx as nx\n",
    "import torch\n",
    "from torch import nn\n",
    "\n",
    "from model import simple_embedding\n",
    "from utils import *\n",
    "import evaluation"
   ]
  },
  {
   "cell_type": "markdown",
   "id": "7e38ebe8-cb81-46ae-b1ab-d00508e00b6e",
   "metadata": {},
   "source": [
    "### load data"
   ]
  },
  {
   "cell_type": "code",
   "execution_count": null,
   "id": "aadd016d-07fc-45b0-920f-fa5076555eb1",
   "metadata": {},
   "outputs": [],
   "source": [
    "meta = pd.read_csv(\"../data/movies_metadata.csv\")\n",
    "# ratings = pd.read_csv(\"data/ratings.csv\")\n",
    "ratings = pd.read_csv(\"../data/ratings_small.csv\")\n",
    "links = pd.read_csv(\"../data/links.csv\", dtype=str)\n",
    "\n",
    "meta.columns = meta.columns.str.lower()\n",
    "ratings.columns = ratings.columns.str.lower()\n",
    "links.columns = links.columns.str.lower()\n",
    "\n",
    "meta = meta.rename(columns={\"id\": \"tmdbid\"})\n",
    "\n",
    "links.tmdbid = links.tmdbid.dropna().astype(int)\n",
    "links.movieid = links.movieid.dropna().astype(int)"
   ]
  },
  {
   "cell_type": "code",
   "execution_count": null,
   "id": "76610a07-8779-4e5b-b58c-8eae1de5da11",
   "metadata": {},
   "outputs": [],
   "source": [
    "meta.tmdbid = pd.to_numeric(meta.tmdbid, errors=\"coerce\")\n",
    "meta = meta.dropna(subset=[\"tmdbid\"])\n",
    "meta = meta.merge(links[[\"movieid\", \"tmdbid\"]], how=\"left\")"
   ]
  },
  {
   "cell_type": "markdown",
   "id": "1b62fdd2-d081-4c6c-b3db-d705c6e0c9e4",
   "metadata": {},
   "source": [
    "#### map userid and movie_id to index"
   ]
  },
  {
   "cell_type": "code",
   "execution_count": null,
   "id": "7caa222c-85e5-4439-934c-9f8494747668",
   "metadata": {},
   "outputs": [],
   "source": [
    "userid = ratings.userid.sort_values().drop_duplicates().reset_index(drop=True)\n",
    "movieid = ratings.movieid.sort_values().drop_duplicates().reset_index(drop=True)\n",
    "movieid.index = movieid.index + len(userid)"
   ]
  },
  {
   "cell_type": "code",
   "execution_count": null,
   "id": "cb1b0a46-c81a-450a-8e2e-ba0d29da1d04",
   "metadata": {},
   "outputs": [],
   "source": [
    "nodeid_userid = userid.to_dict()\n",
    "nodeid_movieid = movieid.to_dict()\n",
    "\n",
    "userid_nodeid = {v: k for k, v in nodeid_userid.items()}\n",
    "movieid_nodeid = {v: k for k, v in nodeid_movieid.items()}"
   ]
  },
  {
   "cell_type": "markdown",
   "id": "93473387-7155-4915-9af1-2c87d8707167",
   "metadata": {},
   "source": [
    "## transform to graph"
   ]
  },
  {
   "cell_type": "code",
   "execution_count": null,
   "id": "b47e518a-b760-4e16-9ed3-a31fc1a6fa64",
   "metadata": {},
   "outputs": [],
   "source": [
    "%%time\n",
    "ddata = dd.from_pandas(ratings, npartitions=10)\n",
    "\n",
    "def create_edge(x): \n",
    "    return (userid_nodeid[int(x.userid)], movieid_nodeid[int(x.movieid)], x.rating)\n",
    "\n",
    "edges = ddata.map_partitions(lambda df: df.apply((lambda row: create_edge(row)), axis=1)).compute() \n",
    "edges = edges.tolist()"
   ]
  },
  {
   "cell_type": "code",
   "execution_count": null,
   "id": "244efc2c-f4fe-4e9c-b8a4-1dca6eda8a06",
   "metadata": {},
   "outputs": [],
   "source": [
    "%%time\n",
    "G = nx.Graph(directed=False)\n",
    "G.add_weighted_edges_from(edges)"
   ]
  },
  {
   "cell_type": "code",
   "execution_count": null,
   "id": "65467139-7886-4622-be30-7832e74d839c",
   "metadata": {},
   "outputs": [],
   "source": [
    "print(\"number of nodes:\", G.number_of_nodes())\n",
    "print(\"number of edges:\", G.number_of_edges())\n",
    "cc = 2 * G.number_of_edges() / G.number_of_nodes()\n",
    "print(\"average node degree:\", cc)\n",
    "print(\"density of network:\", nx.density(G))"
   ]
  },
  {
   "cell_type": "markdown",
   "id": "8b336328-e34b-4b21-a76d-cc5cc0051f18",
   "metadata": {},
   "source": [
    "# Training"
   ]
  },
  {
   "cell_type": "markdown",
   "id": "7017c618-b957-404b-be34-7d733e8618b8",
   "metadata": {},
   "source": [
    "### get edge list"
   ]
  },
  {
   "cell_type": "code",
   "execution_count": null,
   "id": "a362bb78-15ed-4a92-babe-ae9a10e8efc7",
   "metadata": {},
   "outputs": [],
   "source": [
    "pos_edge_list = graph_to_edge_list(G, sort=True)\n",
    "\n",
    "# split edges\n",
    "split_dict = {\"train\": 0.8, \"test\": 0.2}\n",
    "edges = transductive_edge_split(pos_edge_list, split_dict, seed=25)"
   ]
  },
  {
   "cell_type": "markdown",
   "id": "aff12168-ffbe-472a-b864-6b4274fc91cb",
   "metadata": {},
   "source": [
    "#### create negative samples and labels"
   ]
  },
  {
   "cell_type": "code",
   "execution_count": null,
   "id": "b6d35bed-df59-47a0-b1f2-0d0376f99da3",
   "metadata": {},
   "outputs": [],
   "source": [
    "pos_edge_index = dict()\n",
    "for key, ls in edges.items():\n",
    "    pos_edge_index[key] = edge_list_to_tensor(ls)"
   ]
  },
  {
   "cell_type": "code",
   "execution_count": null,
   "id": "7f4af09b-10eb-434b-acea-4ef0d556d796",
   "metadata": {},
   "outputs": [],
   "source": [
    "pos_edge_index = dict()\n",
    "neg_edge_index = dict()\n",
    "pos_label = dict()\n",
    "neg_label = dict()\n",
    "\n",
    "for key, ls in edges.items():\n",
    "    pos_edge_index[key] = edge_list_to_tensor(ls)\n",
    "\n",
    "    neg_edge_list = sample_negative_edges(G, len(ls))\n",
    "    neg_edge_index[key] = edge_list_to_tensor(neg_edge_list)\n",
    "\n",
    "    pos_label[key] = torch.ones(len(ls))\n",
    "    neg_label[key] = torch.zeros(len(ls))"
   ]
  },
  {
   "cell_type": "markdown",
   "id": "17c8e00d-2a55-4249-8b26-9cc3c67f18dc",
   "metadata": {},
   "source": [
    "### create embeddings"
   ]
  },
  {
   "cell_type": "code",
   "execution_count": null,
   "id": "f5e453ca-7d43-4ac5-a6b2-d8dab5f33c7a",
   "metadata": {},
   "outputs": [],
   "source": [
    "torch.manual_seed(1)\n",
    "emb = create_node_emb(num_node=G.number_of_nodes())"
   ]
  },
  {
   "cell_type": "code",
   "execution_count": null,
   "id": "220fe64c-9300-4108-80d7-a6db44085cff",
   "metadata": {},
   "outputs": [],
   "source": [
    "users, user_index = pos_edge_index[\"train\"].min(dim=0)\n",
    "movies, movie_index = pos_edge_index[\"train\"].max(dim=0)"
   ]
  },
  {
   "cell_type": "code",
   "execution_count": null,
   "id": "e7b94a96-9a05-426f-83ff-1d0ace9e8993",
   "metadata": {},
   "outputs": [],
   "source": [
    "pos_edge_index[\"train\"][:, users == 261]"
   ]
  },
  {
   "cell_type": "markdown",
   "id": "96a37ce0-cc30-4daa-8b14-14eefde3ece7",
   "metadata": {},
   "source": [
    "### train embeddings"
   ]
  },
  {
   "cell_type": "code",
   "execution_count": null,
   "id": "7e1d248d-10c2-41d0-8646-d997016e87f7",
   "metadata": {},
   "outputs": [],
   "source": [
    "def get_pos_edges_users(pos_edge_index):\n",
    "    users, index = pos_edge_index.min(dim=0)\n",
    "    unique_users = users.unique().tolist()\n",
    "    return users, unique_users, index"
   ]
  },
  {
   "cell_type": "code",
   "execution_count": null,
   "id": "52fd57e7-17ce-4102-a992-92521a5a4861",
   "metadata": {},
   "outputs": [],
   "source": [
    "def get_pos_edges_movies(pos_edge_index):\n",
    "    movies, index = pos_edge_index.max(dim=0)\n",
    "    unique_movies = movies.unique().tolist()\n",
    "    return movies, unique_movies, index"
   ]
  },
  {
   "cell_type": "code",
   "execution_count": null,
   "id": "a0f2cf47-66c3-4d9a-b638-be436519f833",
   "metadata": {},
   "outputs": [],
   "source": [
    "def user_batch_generator(_unique_users, n_batches):\n",
    "    unique_user = _unique_users.copy()\n",
    "    random.shuffle(unique_user)\n",
    "    batch_n_user = len(unique_user) // n_batches\n",
    "    for i in range(0, len(unique_user), batch_n_user):\n",
    "        yield unique_user[i : i + batch_n_user]"
   ]
  },
  {
   "cell_type": "code",
   "execution_count": null,
   "id": "3ac2850d-905b-40a3-b52b-f2844c09b2b0",
   "metadata": {},
   "outputs": [],
   "source": [
    "def user_brp_loss(_f_pos, _f_neg):\n",
    "    s = nn.Sigmoid()\n",
    "    f_pos = _f_pos.repeat_interleave(_f_neg.shape[0], dim=0)\n",
    "    f_neg = _f_neg.repeat(1, _f_pos.shape[0])\n",
    "\n",
    "    return -torch.log(s(f_pos - f_neg)).mean()"
   ]
  },
  {
   "cell_type": "code",
   "execution_count": null,
   "id": "ebe839fd-0045-4182-8a29-01dc066b7988",
   "metadata": {},
   "outputs": [],
   "source": [
    "def user_loss(edges, users, u, unique_movies_set, model, neg_sample_size=10):\n",
    "    pos_edges = edges[:, users == u]\n",
    "\n",
    "    watched_movies = set(pos_edges[1].tolist())\n",
    "    neg_movies = list(unique_movies_set - watched_movies)\n",
    "    neg_movies = np.random.choice(neg_movies, neg_sample_size, replace=False)\n",
    "    neg_movies = torch.tensor(neg_movies)\n",
    "\n",
    "    neg_edges = torch.stack([pos_edges[0, :neg_sample_size], neg_movies])\n",
    "\n",
    "    # calculate brp loss for user\n",
    "    f_pos = model.forward(pos_edges)\n",
    "    f_neg = model.forward(neg_edges)\n",
    "\n",
    "    return user_brp_loss(f_pos, f_neg)"
   ]
  },
  {
   "cell_type": "code",
   "execution_count": null,
   "id": "8a035e79-0d91-4dd8-9584-8525ed3aa00f",
   "metadata": {
    "tags": []
   },
   "outputs": [],
   "source": [
    "from torch.optim import Adam\n",
    "\n",
    "\n",
    "def batch_train(model, pos_edges, n_batches, epochs=180):\n",
    "\n",
    "    learning_rate = 0.001\n",
    "    optimizer = Adam(emb.parameters(), lr=learning_rate)\n",
    "\n",
    "    users, unique_users, index = get_pos_edges_users(pos_edges)\n",
    "    _, unique_movies, _ = get_pos_edges_movies(pos_edges)\n",
    "\n",
    "    for i in range(epochs):\n",
    "        user_batches = user_batch_generator(unique_users, n_batches)\n",
    "        for batch in user_batches:\n",
    "            optimizer.zero_grad()\n",
    "            user_losses = []\n",
    "            for u in batch:\n",
    "                ul = user_loss(\n",
    "                    edges=pos_edges,\n",
    "                    users=users,\n",
    "                    u=u,\n",
    "                    unique_movies_set=set(unique_movies),\n",
    "                    model=model,\n",
    "                )\n",
    "                user_losses.append(ul)\n",
    "            batch_loss = torch.stack(user_losses).mean()\n",
    "\n",
    "            batch_loss.backward()\n",
    "            optimizer.step()\n",
    "\n",
    "        if i % 30 == 0:\n",
    "            print(f\"epoch {i}: loss is: {batch_loss}\")\n",
    "\n",
    "\n",
    "model = simple_embedding(emb)\n",
    "\n",
    "batch_train(model, pos_edge_index[\"train\"], n_batches=100)"
   ]
  },
  {
   "cell_type": "markdown",
   "id": "a3c8048f-a462-4c27-b1bc-430736d32131",
   "metadata": {},
   "source": [
    "### recall@k"
   ]
  },
  {
   "cell_type": "code",
   "execution_count": null,
   "id": "46e376ae-8082-4ede-b720-5f30c55c77c9",
   "metadata": {},
   "outputs": [],
   "source": [
    "evaluation.avg_recall_at_k(\n",
    "    train_edges=pos_edge_index[\"train\"],\n",
    "    test_edges=pos_edge_index[\"test\"],\n",
    "    model=model,\n",
    "    library=nodeid_movieid.keys(),\n",
    "    users=nodeid_userid.keys(),\n",
    "    k=100,\n",
    ")"
   ]
  },
  {
   "cell_type": "markdown",
   "id": "8e66cd25-bdba-4c95-ac6d-b548453a1322",
   "metadata": {},
   "source": [
    "## improve model by using Light GCN"
   ]
  },
  {
   "cell_type": "code",
   "execution_count": null,
   "id": "88390b1f-2ff0-49fa-829d-e364b1491a75",
   "metadata": {},
   "outputs": [],
   "source": [
    "from model import LightGCN"
   ]
  },
  {
   "cell_type": "code",
   "execution_count": null,
   "id": "6d5798eb-4d5b-43e7-8faf-03c40fc23420",
   "metadata": {},
   "outputs": [],
   "source": [
    "lgcn = LightGCN(5)"
   ]
  },
  {
   "cell_type": "code",
   "execution_count": null,
   "id": "c5802547-883e-42c0-bf37-7e806a493116",
   "metadata": {},
   "outputs": [],
   "source": [
    "res = lgcn.forward(emb.weight, pos_edge_index[\"train\"])"
   ]
  },
  {
   "cell_type": "code",
   "execution_count": null,
   "id": "49202866-f9cb-4123-b7ec-88512c9d3fd1",
   "metadata": {},
   "outputs": [],
   "source": [
    "emb2 = nn.Embedding(emb.num_embeddings, emb.embedding_dim)\n",
    "emb2.weight = nn.Parameter(res)\n",
    "\n",
    "m2 = simple_embedding(emb2)"
   ]
  },
  {
   "cell_type": "code",
   "execution_count": null,
   "id": "f4831ed0-eb6f-4ccb-ba82-a2dad0b7113f",
   "metadata": {},
   "outputs": [],
   "source": [
    "evaluation.avg_recall_at_k(\n",
    "    train_edges=pos_edge_index[\"train\"],\n",
    "    test_edges=pos_edge_index[\"test\"],\n",
    "    model=m2,\n",
    "    library=nodeid_movieid.keys(),\n",
    "    users=nodeid_userid.keys(),\n",
    "    k=100,\n",
    ")"
   ]
  },
  {
   "cell_type": "code",
   "execution_count": null,
   "id": "bb3c3cbc-20d7-4d5a-8a99-7cb0fd39d279",
   "metadata": {},
   "outputs": [],
   "source": []
  },
  {
   "cell_type": "code",
   "execution_count": null,
   "id": "39adbadc-a113-4b1b-bc24-d8ae51549f47",
   "metadata": {},
   "outputs": [],
   "source": []
  }
 ],
 "metadata": {
  "kernelspec": {
   "display_name": "Python 3 (ipykernel)",
   "language": "python",
   "name": "python3"
  },
  "language_info": {
   "codemirror_mode": {
    "name": "ipython",
    "version": 3
   },
   "file_extension": ".py",
   "mimetype": "text/x-python",
   "name": "python",
   "nbconvert_exporter": "python",
   "pygments_lexer": "ipython3",
   "version": "3.9.7"
  }
 },
 "nbformat": 4,
 "nbformat_minor": 5
}
