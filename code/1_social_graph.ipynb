{
 "cells": [
  {
   "cell_type": "code",
   "execution_count": null,
   "id": "2b3e3389-063b-4413-a6bc-9b3524687040",
   "metadata": {},
   "outputs": [],
   "source": [
    "%load_ext lab_black"
   ]
  },
  {
   "cell_type": "code",
   "execution_count": null,
   "id": "86f6b6ec-9287-4537-add8-2be7cdf16a47",
   "metadata": {},
   "outputs": [],
   "source": [
    "import pandas as pd\n",
    "import numpy as np\n",
    "\n",
    "import ast\n",
    "import itertools\n",
    "\n",
    "import networkx as nx\n",
    "\n",
    "pd.set_option(\"display.max_columns\", 100)"
   ]
  },
  {
   "cell_type": "code",
   "execution_count": null,
   "id": "82fd2688-c36a-4ac5-9253-3d79ccc9e905",
   "metadata": {},
   "outputs": [],
   "source": [
    "credits = pd.read_csv(\"../data/credits.csv\")\n",
    "meta = pd.read_csv(\"../data/movies_metadata.csv\")"
   ]
  },
  {
   "cell_type": "markdown",
   "id": "5a07dc0d-d443-480b-ad02-a0d161806a44",
   "metadata": {
    "tags": []
   },
   "source": [
    "### select subset of movies\n",
    "\n",
    "To restrict the size of the resulting graph, we focus on movies that have generated more than 5 million in revenue starting in the year 2000."
   ]
  },
  {
   "cell_type": "code",
   "execution_count": null,
   "id": "32660412-6154-464a-9b75-639e5a8c73be",
   "metadata": {},
   "outputs": [],
   "source": [
    "meta.release_date = pd.to_datetime(meta.release_date, errors=\"coerce\")"
   ]
  },
  {
   "cell_type": "code",
   "execution_count": null,
   "id": "2ef48f19-53fb-4809-8e87-a057ac3d931b",
   "metadata": {},
   "outputs": [],
   "source": [
    "subset = meta.loc[(meta.revenue > 5000000) & (meta.release_date.dt.year >= 2000)].copy()\n",
    "subset.id = subset.id.astype(int)"
   ]
  },
  {
   "cell_type": "code",
   "execution_count": null,
   "id": "8097b291-f585-4780-a1a0-ab5608f24230",
   "metadata": {},
   "outputs": [],
   "source": [
    "subset.release_date.dt.year.value_counts().sort_index()"
   ]
  },
  {
   "cell_type": "code",
   "execution_count": null,
   "id": "4b76ddd2-18d3-45cd-85a7-baf6afd7f51b",
   "metadata": {},
   "outputs": [],
   "source": [
    "len(subset)"
   ]
  },
  {
   "cell_type": "code",
   "execution_count": null,
   "id": "ad4942b5-d010-4092-ac3a-470632930b1d",
   "metadata": {},
   "outputs": [],
   "source": [
    "credits = credits.merge(subset[[\"id\"]], how=\"inner\")"
   ]
  },
  {
   "cell_type": "markdown",
   "id": "6d6c20a3-b9ba-4548-8507-fd79cff52aac",
   "metadata": {},
   "source": [
    "### general information about credits"
   ]
  },
  {
   "cell_type": "code",
   "execution_count": null,
   "id": "e188ecc5-e652-44bd-aa4e-da4d126980ff",
   "metadata": {},
   "outputs": [],
   "source": [
    "credits.head()"
   ]
  },
  {
   "cell_type": "code",
   "execution_count": null,
   "id": "6f333baa-c7ac-4e20-906a-5c3b329bb7b7",
   "metadata": {},
   "outputs": [],
   "source": [
    "print(\"number of duplicates: \", credits.id.duplicated().sum())\n",
    "print(\"number of distinct movies: \", credits.id.nunique())"
   ]
  },
  {
   "cell_type": "code",
   "execution_count": null,
   "id": "a68e4cc2-3f9c-46a9-86a9-2a3a2ba269ee",
   "metadata": {},
   "outputs": [],
   "source": [
    "# each entry is a list of dictionaries\n",
    "# each dictionary contains information about the cast\n",
    "credits.cast[0]"
   ]
  },
  {
   "cell_type": "markdown",
   "id": "d4d99859-5e5f-4bb5-b2d2-18c67932202f",
   "metadata": {},
   "source": [
    "### preprocess"
   ]
  },
  {
   "cell_type": "code",
   "execution_count": null,
   "id": "0041f356-2885-4b1a-961d-445bb86ba405",
   "metadata": {},
   "outputs": [],
   "source": [
    "# covert strings to list of dictionary\n",
    "credits.cast = credits.cast.apply(ast.literal_eval)\n",
    "credits.crew = credits.crew.apply(ast.literal_eval)"
   ]
  },
  {
   "cell_type": "code",
   "execution_count": null,
   "id": "d906c222-b49f-4a9b-a087-27873a013a0c",
   "metadata": {},
   "outputs": [],
   "source": [
    "cdf = credits[[\"id\"]].copy()\n",
    "\n",
    "# cdf (cast and crw df) contains list of people who worked on a certain movie\n",
    "# extract information from dictionaries\n",
    "cdf[\"cast_list\"] = credits.cast.apply(lambda x: [y[\"name\"] for y in x])\n",
    "cdf[\"crew_list\"] = credits.crew.apply(lambda x: [y[\"name\"] for y in x])\n",
    "cdf[\"people\"] = cdf.apply(lambda x: x.cast_list + x.crew_list, axis=1)"
   ]
  },
  {
   "cell_type": "code",
   "execution_count": null,
   "id": "3692c22f-cf3c-4074-ab32-53edcf6a4ded",
   "metadata": {},
   "outputs": [],
   "source": [
    "credits.cast[0]"
   ]
  },
  {
   "cell_type": "markdown",
   "id": "7eec9498-0a2a-4206-b1c7-56d8f1ecfe71",
   "metadata": {},
   "source": [
    "### create cooperation graph\n",
    "\n",
    "Assume that there are no two people with the same name."
   ]
  },
  {
   "cell_type": "code",
   "execution_count": null,
   "id": "3c24be83-1aee-46be-a463-57d3d58ec6e2",
   "metadata": {},
   "outputs": [],
   "source": [
    "print(f\"number of distinct cast people: {cdf.cast_list.explode().nunique()}\")\n",
    "print(f\"number of distinct crew people: {cdf.crew_list.explode().nunique()}\")\n",
    "print(f\"number of distinct people: {cdf.people.explode().nunique()}\")"
   ]
  },
  {
   "cell_type": "code",
   "execution_count": null,
   "id": "13a26966-8535-452a-be53-060a7f0a31a6",
   "metadata": {},
   "outputs": [],
   "source": [
    "cdf.cast_list.explode().value_counts()[:20]"
   ]
  },
  {
   "cell_type": "code",
   "execution_count": null,
   "id": "4216655d-4a68-4870-9f41-f0c4b64ef8a3",
   "metadata": {},
   "outputs": [],
   "source": [
    "def get_graph(_s, map_names=False):\n",
    "    \"\"\"Takes pd.Series containing lists of people who have worked together.\n",
    "    Returns graph showing cooperation between these people\n",
    "    \"\"\"\n",
    "\n",
    "    s = _s.copy()\n",
    "\n",
    "    # pd. Series with distinct people names\n",
    "    nodes = s.explode().drop_duplicates().reset_index(drop=True)\n",
    "\n",
    "    if map_names:\n",
    "        # map each name to an index\n",
    "        nodes_inverse_mapping = {v: k for k, v in nodes.to_dict().items()}\n",
    "        # replace names in list with index\n",
    "        s = s.apply(lambda x: [nodes_inverse_mapping[name] for name in x])\n",
    "\n",
    "    # for each list: create 2 tuple combinations of list items\n",
    "    # (in each list are people who worked on one movie, the 2 tuple shows they have cooperated)\n",
    "    edges_raw = s.apply(\n",
    "        lambda x: [tuple(sorted(edge)) for edge in itertools.combinations(x, 2)]\n",
    "    )\n",
    "    # count edges, (A, B) could occur more than once, we interpret that as the weight\n",
    "    edges_raw = edges_raw.explode().value_counts().reset_index()\n",
    "    edges_raw.columns = [\"edge\", \"weight\"]\n",
    "    # 10x faster than edges_raw.apply(lambda x: (*x.edge, x.weight), axis=1)\n",
    "    _a = np.array(edges_raw.edge.tolist(), dtype=\"object\")\n",
    "    _b = np.array(edges_raw.weight.tolist(), dtype=\"object\").reshape(-1, 1)\n",
    "    _data = np.concatenate([_a, _b], axis=1)\n",
    "    edges_weighted = [tuple(_data[i]) for i in range(len(_data))]\n",
    "\n",
    "    # create networkx Graph\n",
    "    G = nx.Graph(directed=False)\n",
    "    G.add_nodes_from(nodes.to_list())\n",
    "    G.add_weighted_edges_from(edges_weighted)\n",
    "\n",
    "    return G"
   ]
  },
  {
   "cell_type": "code",
   "execution_count": null,
   "id": "8cb08552-9000-4b95-8580-f7066608e268",
   "metadata": {},
   "outputs": [],
   "source": [
    "s = cdf.cast_list.copy()\n",
    "s = cdf.people.copy()"
   ]
  },
  {
   "cell_type": "code",
   "execution_count": null,
   "id": "b8a25c2c-88b0-4d4e-a40d-cd906551be6f",
   "metadata": {},
   "outputs": [],
   "source": [
    "%%time\n",
    "G = get_graph(s)"
   ]
  },
  {
   "cell_type": "markdown",
   "id": "89b06c21-2658-44c4-aaa6-d69642b9e79d",
   "metadata": {},
   "source": [
    "### General graph information "
   ]
  },
  {
   "cell_type": "code",
   "execution_count": null,
   "id": "c73d57d1-e33f-43c2-8895-3f0df6c7f610",
   "metadata": {},
   "outputs": [],
   "source": [
    "G.is_directed()"
   ]
  },
  {
   "cell_type": "code",
   "execution_count": null,
   "id": "cf43efa8-3604-44c7-aecf-17e42343dde9",
   "metadata": {},
   "outputs": [],
   "source": [
    "# Add node degree to node attribute\n",
    "\n",
    "degree_dict = dict(G.degree(G.nodes()))\n",
    "nx.set_node_attributes(G, degree_dict, \"degree\")"
   ]
  },
  {
   "cell_type": "markdown",
   "id": "463568d3-4d3c-4fb4-8072-c5076310f9e0",
   "metadata": {},
   "source": [
    "#### summary statistics"
   ]
  },
  {
   "cell_type": "code",
   "execution_count": null,
   "id": "9eb63f8d-bddb-4a60-b833-1e42f52ad722",
   "metadata": {},
   "outputs": [],
   "source": [
    "print(\"number of nodes:\", G.number_of_nodes())\n",
    "print(\"number of edges:\", G.number_of_edges())\n",
    "cc = 2 * G.number_of_edges() / G.number_of_nodes()\n",
    "print(\"average node degree:\", cc)\n",
    "print(\"density of network:\", nx.density(G))"
   ]
  },
  {
   "cell_type": "code",
   "execution_count": null,
   "id": "8702f4d6-0f28-4c80-b8fc-c87b40c516f5",
   "metadata": {},
   "outputs": [],
   "source": [
    "%%time\n",
    "# 12 seconds for 320k edges and 12k nodes (windows core i5)\n",
    "# 1min 21s for 1600k edges and 40k nodes (windows core i5)\n",
    "# 42k nodes, 1680k edges: 35 sek (macbook pro)\n",
    "# 85k nodes, 8726k edges: 10min (macbook pro)\n",
    "nx.average_clustering(G)"
   ]
  },
  {
   "cell_type": "code",
   "execution_count": null,
   "id": "0800e1de-a134-4102-9f4c-012c2640b88d",
   "metadata": {},
   "outputs": [],
   "source": [
    "# %%time\n",
    "# # 2min for 320k edges and 12k nodes\n",
    "# nx.average_clustering(G, weight = 'weight')"
   ]
  },
  {
   "cell_type": "markdown",
   "id": "a69b9cc4-9f75-481e-8e03-46033d9b7b6a",
   "metadata": {},
   "source": [
    "#### look at individual star"
   ]
  },
  {
   "cell_type": "code",
   "execution_count": null,
   "id": "8c6e9221-6892-4299-94b2-7cc93fc065dd",
   "metadata": {},
   "outputs": [],
   "source": [
    "star = \"Jackie Chan\"\n",
    "star = \"Scarlett Johansson\""
   ]
  },
  {
   "cell_type": "code",
   "execution_count": null,
   "id": "939e5c32-2d42-45d1-b85f-a062db5f41e3",
   "metadata": {},
   "outputs": [],
   "source": [
    "print(f\"{star} : {G.nodes[star]}\")"
   ]
  },
  {
   "cell_type": "code",
   "execution_count": null,
   "id": "576628dd-7677-46c8-872c-9f15f793e3a8",
   "metadata": {},
   "outputs": [],
   "source": [
    "colab_nodes = list(G.neighbors(star))\n",
    "colab_edges = list(G.edges(star, data=True))"
   ]
  },
  {
   "cell_type": "code",
   "execution_count": null,
   "id": "731e77fa-f5c4-4b3b-9675-85d4a601b913",
   "metadata": {},
   "outputs": [],
   "source": [
    "colab_edges[:10]"
   ]
  },
  {
   "cell_type": "markdown",
   "id": "08c8c0f3-1f7c-4318-8172-0410b6774ba5",
   "metadata": {},
   "source": [
    "### find most influential people"
   ]
  },
  {
   "cell_type": "code",
   "execution_count": null,
   "id": "a918ced2-fc7d-4e9d-85fb-4c670b401252",
   "metadata": {},
   "outputs": [],
   "source": [
    "from operator import itemgetter\n",
    "\n",
    "sorted_degree = sorted(degree_dict.items(), key=itemgetter(1), reverse=True)"
   ]
  },
  {
   "cell_type": "code",
   "execution_count": null,
   "id": "8378db20-2c09-4881-87c3-718956375ebd",
   "metadata": {},
   "outputs": [],
   "source": [
    "print(\"Top 20 nodes by degree:\")\n",
    "for d in sorted_degree[:20]:\n",
    "    print(d)"
   ]
  },
  {
   "cell_type": "markdown",
   "id": "129769d6-5dce-44f6-adf0-cca0c125e1ad",
   "metadata": {},
   "source": [
    "### pagerank"
   ]
  },
  {
   "cell_type": "code",
   "execution_count": null,
   "id": "889edac2-89b7-4652-8a73-38cdb0b81049",
   "metadata": {},
   "outputs": [],
   "source": [
    "%%time\n",
    "# 50.6 seconds for 1600k edges and 40k nodes\n",
    "# 17 sec for 85k nodes, 8726k edges\n",
    "pr = nx.pagerank(G, weight = 'weight')"
   ]
  },
  {
   "cell_type": "code",
   "execution_count": null,
   "id": "26ae0512-cc76-43ec-af97-e7da30c72a43",
   "metadata": {},
   "outputs": [],
   "source": [
    "sorted(pr.items(), key=lambda item: item[1], reverse=True)[:20]"
   ]
  },
  {
   "cell_type": "code",
   "execution_count": null,
   "id": "99fccb1e-1479-4bca-83a1-cabe761da033",
   "metadata": {},
   "outputs": [],
   "source": [
    "sorted(pr.items(), key=lambda item: item[1], reverse=True)[-10:]"
   ]
  },
  {
   "cell_type": "code",
   "execution_count": null,
   "id": "afb73f38-0e5c-4032-b6b3-455c1370278b",
   "metadata": {},
   "outputs": [],
   "source": [
    "pr_unweighted = nx.pagerank(G, weight=None)"
   ]
  },
  {
   "cell_type": "code",
   "execution_count": null,
   "id": "78b0cd02-56bc-498b-bfeb-bb1ac16b555b",
   "metadata": {},
   "outputs": [],
   "source": [
    "sorted(pr_unweighted.items(), key=lambda item: item[1], reverse=True)[:20]"
   ]
  },
  {
   "cell_type": "markdown",
   "id": "1ea0a476-29a1-4379-b8a5-23474bd4c930",
   "metadata": {},
   "source": [
    "### get jobs of each person"
   ]
  },
  {
   "cell_type": "code",
   "execution_count": null,
   "id": "3267acef-faec-4972-b38a-449bdcf0f5ab",
   "metadata": {},
   "outputs": [],
   "source": [
    "job_dict = {}"
   ]
  },
  {
   "cell_type": "code",
   "execution_count": null,
   "id": "de700e18-a47c-4d3e-ab22-39a6ca6fc3b7",
   "metadata": {},
   "outputs": [],
   "source": [
    "def extract_crew(s):\n",
    "    name_job = (\n",
    "        s.apply(lambda ls: [[str(x[\"name\"]), str(x[\"job\"])] for x in ls])\n",
    "        .explode()\n",
    "        .drop_duplicates()\n",
    "        .dropna()\n",
    "        .to_list()\n",
    "    )\n",
    "    df = pd.DataFrame(name_job)\n",
    "    df.columns = [\"name\", \"job\"]\n",
    "    return df"
   ]
  },
  {
   "cell_type": "code",
   "execution_count": null,
   "id": "0c011aa4-82b7-4db6-84e8-7db2cd680835",
   "metadata": {},
   "outputs": [],
   "source": [
    "%%time\n",
    "# 2min\n",
    "crew_jobs = extract_crew(credits.crew)\n",
    "cast_jobs = cdf.cast_list.explode().drop_duplicates().to_frame()\n",
    "cast_jobs.columns = [\"name\"]\n",
    "cast_jobs[\"job\"] = \"cast\""
   ]
  },
  {
   "cell_type": "code",
   "execution_count": null,
   "id": "4e226a43-4716-42be-87db-4246c61b3dd4",
   "metadata": {},
   "outputs": [],
   "source": [
    "jobs = pd.concat([crew_jobs, cast_jobs])\n",
    "jobs = jobs.groupby(by=[\"name\"]).job.apply(list).to_dict()"
   ]
  },
  {
   "cell_type": "markdown",
   "id": "7db5f340-d19f-4236-b4ff-52f19a5d0420",
   "metadata": {},
   "source": [
    "### pagerank with additional output"
   ]
  },
  {
   "cell_type": "code",
   "execution_count": null,
   "id": "ba5abb52-8cd1-4d66-9b1b-453c0cab788f",
   "metadata": {},
   "outputs": [],
   "source": [
    "a = sorted(pr.items(), key=lambda item: item[1], reverse=True)[:20]"
   ]
  },
  {
   "cell_type": "code",
   "execution_count": null,
   "id": "ee271d44-7181-484a-9d26-59c285e008fe",
   "metadata": {},
   "outputs": [],
   "source": [
    "for t in a:\n",
    "    print(t, jobs[t[0]])"
   ]
  },
  {
   "cell_type": "markdown",
   "id": "315148da-dfa2-4cfa-a083-853a97cd434b",
   "metadata": {},
   "source": [
    "### community detection"
   ]
  },
  {
   "cell_type": "code",
   "execution_count": null,
   "id": "0a43c256-2301-4f23-a9db-6ec3d7b7b579",
   "metadata": {},
   "outputs": [],
   "source": [
    "%%time\n",
    "c = nx.algorithms.community.greedy_modularity_communities(G, weight = \"weight\")"
   ]
  },
  {
   "cell_type": "code",
   "execution_count": null,
   "id": "d344ccb7-9647-4470-9131-0c8892040e8b",
   "metadata": {},
   "outputs": [],
   "source": []
  }
 ],
 "metadata": {
  "kernelspec": {
   "display_name": "Python 3 (ipykernel)",
   "language": "python",
   "name": "python3"
  },
  "language_info": {
   "codemirror_mode": {
    "name": "ipython",
    "version": 3
   },
   "file_extension": ".py",
   "mimetype": "text/x-python",
   "name": "python",
   "nbconvert_exporter": "python",
   "pygments_lexer": "ipython3",
   "version": "3.9.7"
  }
 },
 "nbformat": 4,
 "nbformat_minor": 5
}
