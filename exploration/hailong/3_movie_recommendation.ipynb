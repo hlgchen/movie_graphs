{
 "cells": [
  {
   "cell_type": "code",
   "execution_count": 1,
   "id": "adc97baf-39fe-450e-add4-40f8c5a59089",
   "metadata": {},
   "outputs": [],
   "source": [
    "%load_ext lab_black\n",
    "%load_ext autoreload\n",
    "%autoreload 2"
   ]
  },
  {
   "cell_type": "code",
   "execution_count": 34,
   "id": "57a4142c-593f-4d9f-ac72-57bbd91fd7a7",
   "metadata": {},
   "outputs": [],
   "source": [
    "import pandas as pd\n",
    "import numpy as np\n",
    "import dask.dataframe as dd\n",
    "\n",
    "import networkx as nx\n",
    "import torch\n",
    "from torch import nn\n",
    "\n",
    "import re"
   ]
  },
  {
   "cell_type": "code",
   "execution_count": 3,
   "id": "aadd016d-07fc-45b0-920f-fa5076555eb1",
   "metadata": {},
   "outputs": [
    {
     "name": "stderr",
     "output_type": "stream",
     "text": [
      "/opt/homebrew/Caskroom/miniforge/base/envs/cs224p/lib/python3.8/site-packages/IPython/core/interactiveshell.py:3444: DtypeWarning: Columns (10) have mixed types.Specify dtype option on import or set low_memory=False.\n",
      "  exec(code_obj, self.user_global_ns, self.user_ns)\n"
     ]
    }
   ],
   "source": [
    "meta = pd.read_csv(\"data/movies_metadata.csv\")\n",
    "# ratings = pd.read_csv(\"data/ratings.csv\")\n",
    "ratings = pd.read_csv(\"data/ratings_small.csv\")\n",
    "links = pd.read_csv(\"data/links.csv\", dtype=str)\n",
    "\n",
    "meta.columns = meta.columns.str.lower()\n",
    "ratings.columns = ratings.columns.str.lower()\n",
    "links.columns = links.columns.str.lower()\n",
    "\n",
    "meta = meta.rename(columns={\"id\": \"tmdbid\"})\n",
    "\n",
    "links.tmdbid = links.tmdbid.dropna().astype(int)\n",
    "links.movieid = links.movieid.dropna().astype(int)"
   ]
  },
  {
   "cell_type": "code",
   "execution_count": 4,
   "id": "76610a07-8779-4e5b-b58c-8eae1de5da11",
   "metadata": {},
   "outputs": [],
   "source": [
    "meta.tmdbid = pd.to_numeric(meta.tmdbid, errors=\"coerce\")\n",
    "meta = meta.dropna(subset=[\"tmdbid\"])\n",
    "meta = meta.merge(links[[\"movieid\", \"tmdbid\"]], how=\"left\")"
   ]
  },
  {
   "cell_type": "markdown",
   "id": "1b62fdd2-d081-4c6c-b3db-d705c6e0c9e4",
   "metadata": {},
   "source": [
    "#### map userid and movie_id to index"
   ]
  },
  {
   "cell_type": "code",
   "execution_count": 5,
   "id": "7caa222c-85e5-4439-934c-9f8494747668",
   "metadata": {},
   "outputs": [],
   "source": [
    "userid = ratings.userid.sort_values().drop_duplicates().reset_index(drop=True)\n",
    "movieid = ratings.movieid.sort_values().drop_duplicates().reset_index(drop=True)\n",
    "movieid.index = movieid.index + len(userid)"
   ]
  },
  {
   "cell_type": "code",
   "execution_count": 9,
   "id": "cb1b0a46-c81a-450a-8e2e-ba0d29da1d04",
   "metadata": {},
   "outputs": [],
   "source": [
    "nodeid_userid = userid.to_dict()\n",
    "nodeid_movieid = movieid.to_dict()\n",
    "\n",
    "userid_nodeid = {v: k for k, v in nodeid_userid.items()}\n",
    "movieid_nodeid = {v: k for k, v in nodeid_movieid.items()}"
   ]
  },
  {
   "cell_type": "markdown",
   "id": "93473387-7155-4915-9af1-2c87d8707167",
   "metadata": {},
   "source": [
    "### create graphs"
   ]
  },
  {
   "cell_type": "code",
   "execution_count": 10,
   "id": "b47e518a-b760-4e16-9ed3-a31fc1a6fa64",
   "metadata": {},
   "outputs": [
    {
     "name": "stdout",
     "output_type": "stream",
     "text": [
      "CPU times: user 1.01 s, sys: 19.9 ms, total: 1.03 s\n",
      "Wall time: 1.02 s\n"
     ]
    }
   ],
   "source": [
    "%%time\n",
    "ddata = dd.from_pandas(ratings, npartitions=10)\n",
    "\n",
    "def create_edge(x): \n",
    "    return (userid_nodeid[int(x.userid)], movieid_nodeid[int(x.movieid)], x.rating)\n",
    "\n",
    "edges = ddata.map_partitions(lambda df: df.apply((lambda row: create_edge(row)), axis=1)).compute() \n",
    "edges = edges.tolist()"
   ]
  },
  {
   "cell_type": "code",
   "execution_count": 11,
   "id": "244efc2c-f4fe-4e9c-b8a4-1dca6eda8a06",
   "metadata": {},
   "outputs": [
    {
     "name": "stdout",
     "output_type": "stream",
     "text": [
      "CPU times: user 78.4 ms, sys: 4.37 ms, total: 82.8 ms\n",
      "Wall time: 82.2 ms\n"
     ]
    }
   ],
   "source": [
    "%%time\n",
    "G = nx.Graph(directed=False)\n",
    "G.add_weighted_edges_from(edges)"
   ]
  },
  {
   "cell_type": "code",
   "execution_count": 12,
   "id": "65467139-7886-4622-be30-7832e74d839c",
   "metadata": {},
   "outputs": [
    {
     "name": "stdout",
     "output_type": "stream",
     "text": [
      "number of nodes: 9737\n",
      "number of edges: 100004\n",
      "average node degree: 20.541029064393552\n",
      "density of network: 0.002109801670541655\n"
     ]
    }
   ],
   "source": [
    "print(\"number of nodes:\", G.number_of_nodes())\n",
    "print(\"number of edges:\", G.number_of_edges())\n",
    "cc = 2 * G.number_of_edges() / G.number_of_nodes()\n",
    "print(\"average node degree:\", cc)\n",
    "print(\"density of network:\", nx.density(G))"
   ]
  },
  {
   "cell_type": "markdown",
   "id": "81b88c40-516e-47fe-a140-98647e1328c0",
   "metadata": {},
   "source": [
    "### train a GCN to get embeddings"
   ]
  },
  {
   "cell_type": "code",
   "execution_count": 28,
   "id": "ab26dd48-64d5-4160-84c4-1c742ca1ab86",
   "metadata": {},
   "outputs": [],
   "source": [
    "from utils import *"
   ]
  },
  {
   "cell_type": "markdown",
   "id": "8b336328-e34b-4b21-a76d-cc5cc0051f18",
   "metadata": {},
   "source": [
    "### get edge list"
   ]
  },
  {
   "cell_type": "code",
   "execution_count": 88,
   "id": "7f4af09b-10eb-434b-acea-4ef0d556d796",
   "metadata": {},
   "outputs": [
    {
     "name": "stdout",
     "output_type": "stream",
     "text": [
      "The pos_edge_index tensor has shape torch.Size([2, 100004])\n",
      "The pos_edge_index tensor has sum value 370904711\n"
     ]
    }
   ],
   "source": [
    "pos_edge_list = graph_to_edge_list(G)\n",
    "pos_edge_index = edge_list_to_tensor(pos_edge_list)\n",
    "\n",
    "print(\"The pos_edge_index tensor has shape {}\".format(pos_edge_index.shape))\n",
    "print(\"The pos_edge_index tensor has sum value {}\".format(torch.sum(pos_edge_index)))"
   ]
  },
  {
   "cell_type": "code",
   "execution_count": 89,
   "id": "f55980cf-2bba-4779-a19b-006079bfa57a",
   "metadata": {},
   "outputs": [
    {
     "data": {
      "text/plain": [
       "tensor([[   0,    0,    0,  ...,  664,  664,  667],\n",
       "        [ 701, 1504, 1530,  ...,  786, 4383, 5300]])"
      ]
     },
     "execution_count": 89,
     "metadata": {},
     "output_type": "execute_result"
    }
   ],
   "source": [
    "pos_edge_index"
   ]
  },
  {
   "cell_type": "markdown",
   "id": "b08ad1c4-d747-4dc9-9259-e1c90614f6e5",
   "metadata": {},
   "source": [
    "### sample negative edges"
   ]
  },
  {
   "cell_type": "code",
   "execution_count": 90,
   "id": "c935393c-f062-4bd5-8cd3-6bf618a58063",
   "metadata": {},
   "outputs": [
    {
     "name": "stdout",
     "output_type": "stream",
     "text": [
      "The neg_edge_index tensor has shape torch.Size([2, 100004])\n"
     ]
    }
   ],
   "source": [
    "neg_edge_list = sample_negative_edges(G, len(pos_edge_list))\n",
    "neg_edge_index = edge_list_to_tensor(neg_edge_list)\n",
    "print(\"The neg_edge_index tensor has shape {}\".format(neg_edge_index.shape))"
   ]
  },
  {
   "cell_type": "markdown",
   "id": "17c8e00d-2a55-4249-8b26-9cc3c67f18dc",
   "metadata": {},
   "source": [
    "### create embeddings"
   ]
  },
  {
   "cell_type": "code",
   "execution_count": 91,
   "id": "f5e453ca-7d43-4ac5-a6b2-d8dab5f33c7a",
   "metadata": {},
   "outputs": [
    {
     "name": "stdout",
     "output_type": "stream",
     "text": [
      "Embedding: Embedding(9737, 16)\n",
      "tensor([[0.4502, 0.5006, 0.5616, 0.0649, 0.4536, 0.5016, 0.0650, 0.7346, 0.4265,\n",
      "         0.5439, 0.1151, 0.1710, 0.3025, 0.5056, 0.6294, 0.6973],\n",
      "        [0.5920, 0.1875, 0.7108, 0.8519, 0.2776, 0.8310, 0.3669, 0.7839, 0.9917,\n",
      "         0.7574, 0.1853, 0.2864, 0.4711, 0.6724, 0.8209, 0.9868]],\n",
      "       grad_fn=<EmbeddingBackward0>)\n"
     ]
    }
   ],
   "source": [
    "# Please do not change / reset the random seed\n",
    "torch.manual_seed(1)\n",
    "\n",
    "emb = create_node_emb(num_node=G.number_of_nodes())\n",
    "ids = torch.LongTensor([0, 3])\n",
    "\n",
    "# Print the embedding layer\n",
    "print(\"Embedding: {}\".format(emb))\n",
    "\n",
    "# An example that gets the embeddings for node 0 and 3\n",
    "print(emb(ids))"
   ]
  },
  {
   "cell_type": "markdown",
   "id": "96a37ce0-cc30-4daa-8b14-14eefde3ece7",
   "metadata": {},
   "source": [
    "### train embeddings"
   ]
  },
  {
   "cell_type": "markdown",
   "id": "6883737c-70b8-4d06-802d-9d3e4e34a4e1",
   "metadata": {},
   "source": [
    "#### get labels"
   ]
  },
  {
   "cell_type": "code",
   "execution_count": 92,
   "id": "e122e97c-5681-42cb-8d3e-a3fa07cf156b",
   "metadata": {},
   "outputs": [],
   "source": [
    "# Generate the positive and negative labels\n",
    "\n",
    "pos_label = torch.ones(\n",
    "    pos_edge_index.shape[1],\n",
    ")\n",
    "neg_label = torch.zeros(\n",
    "    neg_edge_index.shape[1],\n",
    ")"
   ]
  },
  {
   "cell_type": "code",
   "execution_count": 93,
   "id": "ed97abdc-1825-4549-b006-cae0e6d33aef",
   "metadata": {},
   "outputs": [],
   "source": [
    "def get_weight_labels(G, t):\n",
    "    length = pos_edge_index.size(1)\n",
    "    res = [G.get_edge_data(*t[:, i].tolist())[\"weight\"] for i in range(length)]\n",
    "    return res"
   ]
  },
  {
   "cell_type": "code",
   "execution_count": 96,
   "id": "3117c58a-14bd-4900-8dc0-72aea6cfbfa6",
   "metadata": {},
   "outputs": [],
   "source": [
    "pos_label = torch.tensor(get_weight_labels(G, pos_edge_index), dtype=torch.float)"
   ]
  },
  {
   "cell_type": "code",
   "execution_count": 97,
   "id": "8a035e79-0d91-4dd8-9584-8525ed3aa00f",
   "metadata": {},
   "outputs": [
    {
     "name": "stdout",
     "output_type": "stream",
     "text": [
      "epoch 0: loss is: -3.0599710941314697, accuracy is 0.0166\n",
      "epoch 500: loss is: -109.2962417602539, accuracy is 0.0166\n",
      "epoch 1000: loss is: -113.22427368164062, accuracy is 0.0176\n"
     ]
    },
    {
     "ename": "KeyboardInterrupt",
     "evalue": "",
     "output_type": "error",
     "traceback": [
      "\u001b[0;31m---------------------------------------------------------------------------\u001b[0m",
      "\u001b[0;31mKeyboardInterrupt\u001b[0m                         Traceback (most recent call last)",
      "\u001b[0;32m/var/folders/y2/kn_782d959q_kshjqj842tpc0000gn/T/ipykernel_13761/1048507535.py\u001b[0m in \u001b[0;36m<module>\u001b[0;34m\u001b[0m\n\u001b[1;32m     64\u001b[0m \u001b[0mtrain_edge\u001b[0m \u001b[0;34m=\u001b[0m \u001b[0mtorch\u001b[0m\u001b[0;34m.\u001b[0m\u001b[0mcat\u001b[0m\u001b[0;34m(\u001b[0m\u001b[0;34m[\u001b[0m\u001b[0mpos_edge_index\u001b[0m\u001b[0;34m,\u001b[0m \u001b[0mneg_edge_index\u001b[0m\u001b[0;34m]\u001b[0m\u001b[0;34m,\u001b[0m \u001b[0mdim\u001b[0m\u001b[0;34m=\u001b[0m\u001b[0;36m1\u001b[0m\u001b[0;34m)\u001b[0m\u001b[0;34m\u001b[0m\u001b[0;34m\u001b[0m\u001b[0m\n\u001b[1;32m     65\u001b[0m \u001b[0;34m\u001b[0m\u001b[0m\n\u001b[0;32m---> 66\u001b[0;31m \u001b[0mtrain\u001b[0m\u001b[0;34m(\u001b[0m\u001b[0memb\u001b[0m\u001b[0;34m,\u001b[0m \u001b[0mloss_fn\u001b[0m\u001b[0;34m,\u001b[0m \u001b[0msigmoid\u001b[0m\u001b[0;34m,\u001b[0m \u001b[0mtrain_label\u001b[0m\u001b[0;34m,\u001b[0m \u001b[0mtrain_edge\u001b[0m\u001b[0;34m)\u001b[0m\u001b[0;34m\u001b[0m\u001b[0;34m\u001b[0m\u001b[0m\n\u001b[0m",
      "\u001b[0;32m/var/folders/y2/kn_782d959q_kshjqj842tpc0000gn/T/ipykernel_13761/1048507535.py\u001b[0m in \u001b[0;36mtrain\u001b[0;34m(emb, loss_fn, sigmoid, train_label, train_edge)\u001b[0m\n\u001b[1;32m     42\u001b[0m         \u001b[0mloss\u001b[0m \u001b[0;34m=\u001b[0m \u001b[0mloss_fn\u001b[0m\u001b[0;34m(\u001b[0m\u001b[0mpred\u001b[0m\u001b[0;34m,\u001b[0m \u001b[0mtrain_label\u001b[0m\u001b[0;34m)\u001b[0m\u001b[0;34m\u001b[0m\u001b[0;34m\u001b[0m\u001b[0m\n\u001b[1;32m     43\u001b[0m \u001b[0;34m\u001b[0m\u001b[0m\n\u001b[0;32m---> 44\u001b[0;31m         \u001b[0mloss\u001b[0m\u001b[0;34m.\u001b[0m\u001b[0mbackward\u001b[0m\u001b[0;34m(\u001b[0m\u001b[0;34m)\u001b[0m\u001b[0;34m\u001b[0m\u001b[0;34m\u001b[0m\u001b[0m\n\u001b[0m\u001b[1;32m     45\u001b[0m         \u001b[0moptimizer\u001b[0m\u001b[0;34m.\u001b[0m\u001b[0mstep\u001b[0m\u001b[0;34m(\u001b[0m\u001b[0;34m)\u001b[0m\u001b[0;34m\u001b[0m\u001b[0;34m\u001b[0m\u001b[0m\n\u001b[1;32m     46\u001b[0m \u001b[0;34m\u001b[0m\u001b[0m\n",
      "\u001b[0;32m/opt/homebrew/Caskroom/miniforge/base/envs/cs224p/lib/python3.8/site-packages/torch/_tensor.py\u001b[0m in \u001b[0;36mbackward\u001b[0;34m(self, gradient, retain_graph, create_graph, inputs)\u001b[0m\n\u001b[1;32m    305\u001b[0m                 \u001b[0mcreate_graph\u001b[0m\u001b[0;34m=\u001b[0m\u001b[0mcreate_graph\u001b[0m\u001b[0;34m,\u001b[0m\u001b[0;34m\u001b[0m\u001b[0;34m\u001b[0m\u001b[0m\n\u001b[1;32m    306\u001b[0m                 inputs=inputs)\n\u001b[0;32m--> 307\u001b[0;31m         \u001b[0mtorch\u001b[0m\u001b[0;34m.\u001b[0m\u001b[0mautograd\u001b[0m\u001b[0;34m.\u001b[0m\u001b[0mbackward\u001b[0m\u001b[0;34m(\u001b[0m\u001b[0mself\u001b[0m\u001b[0;34m,\u001b[0m \u001b[0mgradient\u001b[0m\u001b[0;34m,\u001b[0m \u001b[0mretain_graph\u001b[0m\u001b[0;34m,\u001b[0m \u001b[0mcreate_graph\u001b[0m\u001b[0;34m,\u001b[0m \u001b[0minputs\u001b[0m\u001b[0;34m=\u001b[0m\u001b[0minputs\u001b[0m\u001b[0;34m)\u001b[0m\u001b[0;34m\u001b[0m\u001b[0;34m\u001b[0m\u001b[0m\n\u001b[0m\u001b[1;32m    308\u001b[0m \u001b[0;34m\u001b[0m\u001b[0m\n\u001b[1;32m    309\u001b[0m     \u001b[0;32mdef\u001b[0m \u001b[0mregister_hook\u001b[0m\u001b[0;34m(\u001b[0m\u001b[0mself\u001b[0m\u001b[0;34m,\u001b[0m \u001b[0mhook\u001b[0m\u001b[0;34m)\u001b[0m\u001b[0;34m:\u001b[0m\u001b[0;34m\u001b[0m\u001b[0;34m\u001b[0m\u001b[0m\n",
      "\u001b[0;32m/opt/homebrew/Caskroom/miniforge/base/envs/cs224p/lib/python3.8/site-packages/torch/autograd/__init__.py\u001b[0m in \u001b[0;36mbackward\u001b[0;34m(tensors, grad_tensors, retain_graph, create_graph, grad_variables, inputs)\u001b[0m\n\u001b[1;32m    152\u001b[0m         \u001b[0mretain_graph\u001b[0m \u001b[0;34m=\u001b[0m \u001b[0mcreate_graph\u001b[0m\u001b[0;34m\u001b[0m\u001b[0;34m\u001b[0m\u001b[0m\n\u001b[1;32m    153\u001b[0m \u001b[0;34m\u001b[0m\u001b[0m\n\u001b[0;32m--> 154\u001b[0;31m     Variable._execution_engine.run_backward(\n\u001b[0m\u001b[1;32m    155\u001b[0m         \u001b[0mtensors\u001b[0m\u001b[0;34m,\u001b[0m \u001b[0mgrad_tensors_\u001b[0m\u001b[0;34m,\u001b[0m \u001b[0mretain_graph\u001b[0m\u001b[0;34m,\u001b[0m \u001b[0mcreate_graph\u001b[0m\u001b[0;34m,\u001b[0m \u001b[0minputs\u001b[0m\u001b[0;34m,\u001b[0m\u001b[0;34m\u001b[0m\u001b[0;34m\u001b[0m\u001b[0m\n\u001b[1;32m    156\u001b[0m         allow_unreachable=True, accumulate_grad=True)  # allow_unreachable flag\n",
      "\u001b[0;31mKeyboardInterrupt\u001b[0m: "
     ]
    }
   ],
   "source": [
    "from torch.optim import SGD\n",
    "\n",
    "\n",
    "def accuracy(pred, label):\n",
    "    # TODO: Implement the accuracy function. This function takes the\n",
    "    # pred tensor (the resulting tensor after sigmoid) and the label\n",
    "    # tensor (torch.LongTensor). Predicted value greater than 0.5 will\n",
    "    # be classified as label 1. Else it will be classified as label 0.\n",
    "    # The returned accuracy should be rounded to 4 decimal places.\n",
    "    # For example, accuracy 0.82956 will be rounded to 0.8296.\n",
    "\n",
    "    accu = 0.0\n",
    "\n",
    "    ############# Your code here ############\n",
    "    pred_integer = (pred > 0.5).type(torch.LongTensor)\n",
    "    accu = (label == pred_integer).sum() / torch.ones(label.shape).sum()\n",
    "    accu = round(float(accu), 4)\n",
    "    #########################################\n",
    "\n",
    "    return accu\n",
    "\n",
    "\n",
    "def train(emb, loss_fn, sigmoid, train_label, train_edge):\n",
    "\n",
    "    epochs = 15000\n",
    "    learning_rate = 0.5  # tuned the learning rate here\n",
    "    # could increase learning rate further to achieve even lower loss\n",
    "    # but overfitting the training data might not give us good embeddings\n",
    "\n",
    "    optimizer = SGD(emb.parameters(), lr=learning_rate, momentum=0.9)\n",
    "\n",
    "    for i in range(epochs):\n",
    "\n",
    "        ############# Your code here ############\n",
    "\n",
    "        optimizer.zero_grad()\n",
    "\n",
    "        # gradient caluclated with all nodes (network is small)\n",
    "        # otherwise I would have done it in mini batches\n",
    "        embedded_nodes = emb(train_edge)\n",
    "        pred = sigmoid(torch.mul(embedded_nodes[0], embedded_nodes[1]).sum(axis=1))\n",
    "        loss = loss_fn(pred, train_label)\n",
    "\n",
    "        loss.backward()\n",
    "        optimizer.step()\n",
    "\n",
    "        if i % 500 == 0:\n",
    "            print(\n",
    "                f\"epoch {i}: loss is: {loss}, accuracy is {accuracy(pred, train_label)}\"\n",
    "            )\n",
    "\n",
    "    #########################################\n",
    "\n",
    "\n",
    "loss_fn = nn.BCELoss()\n",
    "sigmoid = nn.Sigmoid()\n",
    "\n",
    "\n",
    "# Concat positive and negative labels into one tensor\n",
    "train_label = torch.cat([pos_label, neg_label], dim=0)\n",
    "\n",
    "# Concat positive and negative edges into one tensor\n",
    "# Since the network is very small, we do not split the edges into val/test sets\n",
    "train_edge = torch.cat([pos_edge_index, neg_edge_index], dim=1)\n",
    "\n",
    "train(emb, loss_fn, sigmoid, train_label, train_edge)"
   ]
  },
  {
   "cell_type": "code",
   "execution_count": null,
   "id": "80974a83-3af0-4c57-8140-1104b6b613a6",
   "metadata": {},
   "outputs": [],
   "source": []
  }
 ],
 "metadata": {
  "kernelspec": {
   "display_name": "Python 3 (ipykernel)",
   "language": "python",
   "name": "python3"
  },
  "language_info": {
   "codemirror_mode": {
    "name": "ipython",
    "version": 3
   },
   "file_extension": ".py",
   "mimetype": "text/x-python",
   "name": "python",
   "nbconvert_exporter": "python",
   "pygments_lexer": "ipython3",
   "version": "3.9.7"
  }
 },
 "nbformat": 4,
 "nbformat_minor": 5
}
